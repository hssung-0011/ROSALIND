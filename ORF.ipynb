{
 "cells": [
  {
   "cell_type": "markdown",
   "metadata": {},
   "source": [
    "**Open Reading Frames**"
   ]
  },
  {
   "cell_type": "markdown",
   "metadata": {},
   "source": [
    "Problem\n",
    "Either strand of a DNA double helix can serve as the coding strand for RNA transcription. Hence, a given DNA string implies six total reading frames, or ways in which the same region of DNA can be translated into amino acids: three reading frames result from reading the string itself, whereas three more result from reading its reverse complement.\n",
    "\n",
    "An open reading frame (ORF) is one which starts from the start codon and ends by stop codon, without any other stop codons in between. Thus, a candidate protein string is derived by translating an open reading frame into amino acids until a stop codon is reached."
   ]
  },
  {
   "cell_type": "code",
   "execution_count": 1,
   "metadata": {},
   "outputs": [],
   "source": [
    "import re"
   ]
  },
  {
   "cell_type": "code",
   "execution_count": 35,
   "metadata": {},
   "outputs": [
    {
     "data": {
      "text/plain": [
       "'UUCCCUUUGUUCCAACAGUCGUCGAUUGAGCAUCUGGGCUAGUACGGCUAUACUAUUUUAUGUUUGGACGUAUAAUCUUCUAAUUACUGCAUUGUUUGCGACUAUCCCCCUCAUAAUGCCGUUGUUACUGUCGCGUCGAAGGGGGGCCUAUAUGGACAAUCGUGCCUAAUGUAUUCGGUACGGUCGAGUGCCCCUUGCGUGUACUGCAGGUAACGAUCACGUGUGUGUACUAAAAUCUUUGAGGAAUGUCGCACCAACGGGGCCGAAUGACCAGAGCUCGGCCCUCCUAUGACCAAAAUGGGUUUGAAGAGAACAAAUAAAAUUUUCAAAGAAAAGGUACUAUUACUACGUGAGGGGCCAACUAAAAAGAGAUACGCCAUCGUUUCCUCGAAUUGGUAUGGUGGGGAAAACGCUUUAUUCCAAAUGCAUGCGAGCUUCGUAGUGUUCAGCGAAAUAGCUAUUUCGCUGAACACUACGAAGCUCGCAUAAUCGACCUUAACCUCGUCCGUCCCCAGUUGGGGGCCAUACUUCUAAAUGUUUCUGUGUCCUCGUAGUAAUCUAAAGAGGCGCCGGAAUCCAUGAGCCCCGACCCCCACGCUCGUGAACAAGCAGAAACGAGUUAUUUGUCCCUGGUCCGAUGAGCUGCCCGGAUAGAUAUGUUGGCAUCGCAGAGCUCGGCCGAGCUCCACAAUCUUUCUGGGGUCGCUUUCAUAAGGAUCAUUUCUGGUUGAGUGGUAACGCAUGCUCUCGCCAGAUUGUUACUACCCCGAUCGAAAGGACCCCAUACAUAGAUAAUAGACGGAUACGUAGCUUCACGAAUGGCCACAUCGAAUAGUUAUUCGUUCUGAUGAGAGACCAUCUUUCGGUGACACAUAGGACCUGUCUCCCAAUUGGUCCCCUCGGGGAGUUUAAUA'"
      ]
     },
     "execution_count": 35,
     "metadata": {},
     "output_type": "execute_result"
    }
   ],
   "source": [
    "filepath = \"/mnt/c/Data/ROSALIND_download/rosalind_orf.txt\"\n",
    "with open(filepath) as f:\n",
    "    sequence = \"\"\n",
    "    for line in f.readlines():\n",
    "        line = line.rstrip()\n",
    "        if line.startswith('>'):\n",
    "            continue\n",
    "        sequence += line\n",
    "\n",
    "sequence = ''.join([('U' if i == 'T' else i) for i in sequence]) \n",
    "sequence\n"
   ]
  },
  {
   "cell_type": "code",
   "execution_count": 36,
   "metadata": {},
   "outputs": [
    {
     "data": {
      "text/plain": [
       "{'UUU': 'F',\n",
       " 'UUC': 'F',\n",
       " 'UUA': 'L',\n",
       " 'UUG': 'L',\n",
       " 'CUU': 'L',\n",
       " 'CUC': 'L',\n",
       " 'CUA': 'L',\n",
       " 'CUG': 'L',\n",
       " 'AUU': 'I',\n",
       " 'AUC': 'I',\n",
       " 'AUA': 'I',\n",
       " 'AUG': 'M',\n",
       " 'GUU': 'V',\n",
       " 'GUC': 'V',\n",
       " 'GUA': 'V',\n",
       " 'GUG': 'V',\n",
       " 'UCU': 'S',\n",
       " 'UCC': 'S',\n",
       " 'UCA': 'S',\n",
       " 'UCG': 'S',\n",
       " 'CCU': 'P',\n",
       " 'CCC': 'P',\n",
       " 'CCA': 'P',\n",
       " 'CCG': 'P',\n",
       " 'ACU': 'T',\n",
       " 'ACC': 'T',\n",
       " 'ACA': 'T',\n",
       " 'ACG': 'T',\n",
       " 'GCU': 'A',\n",
       " 'GCC': 'A',\n",
       " 'GCA': 'A',\n",
       " 'GCG': 'A',\n",
       " 'UAU': 'Y',\n",
       " 'UAC': 'Y',\n",
       " 'CAU': 'H',\n",
       " 'CAC': 'H',\n",
       " 'CAA': 'Q',\n",
       " 'CAG': 'Q',\n",
       " 'AAU': 'N',\n",
       " 'AAC': 'N',\n",
       " 'AAA': 'K',\n",
       " 'AAG': 'K',\n",
       " 'GAU': 'D',\n",
       " 'GAC': 'D',\n",
       " 'GAA': 'E',\n",
       " 'GAG': 'E',\n",
       " 'UGU': 'C',\n",
       " 'UGC': 'C',\n",
       " 'UGG': 'W',\n",
       " 'CGU': 'R',\n",
       " 'CGC': 'R',\n",
       " 'CGA': 'R',\n",
       " 'CGG': 'R',\n",
       " 'AGU': 'S',\n",
       " 'AGC': 'S',\n",
       " 'AGA': 'R',\n",
       " 'AGG': 'R',\n",
       " 'GGU': 'G',\n",
       " 'GGC': 'G',\n",
       " 'GGA': 'G',\n",
       " 'GGG': 'G',\n",
       " 'UAA': '\\n',\n",
       " 'UAG': '\\n',\n",
       " 'UGA': '\\n'}"
      ]
     },
     "execution_count": 36,
     "metadata": {},
     "output_type": "execute_result"
    }
   ],
   "source": [
    "code = \"UUU F UUC F UUA L UUG L CUU L CUC L CUA L CUG L AUU I AUC I AUA I AUG M GUU V GUC V GUA V GUG V UCU S UCC S UCA S UCG S CCU P CCC P CCA P CCG P ACU T ACC T ACA T ACG T GCU A GCC A GCA A GCG A UAU Y UAC Y CAU H CAC H CAA Q CAG Q AAU N AAC N AAA K AAG K GAU D GAC D GAA E GAG E UGU C UGC C UGG W CGU R CGC R CGA R CGG R AGU S AGC S AGA R AGG R GGU G GGC G GGA G GGG G\"\n",
    "code_list = code.split()\n",
    "code_dict = {code_list[i]:code_list[i+1] for i in range(0,len(code_list),2)}\n",
    "code_dict['UAA'] = '\\n'\n",
    "code_dict['UAG'] = '\\n'\n",
    "code_dict['UGA'] = '\\n'\n",
    "code_dict"
   ]
  },
  {
   "cell_type": "code",
   "execution_count": 37,
   "metadata": {},
   "outputs": [],
   "source": [
    "def DNA_to_prot(seq):\n",
    "    new_seq = \"\"\n",
    "    for i in range(0,len(seq),3):\n",
    "        if i + 3 < len(seq):\n",
    "            new_seq = new_seq + code_dict[seq[i:i+3]]\n",
    "        else:\n",
    "            continue\n",
    "    return new_seq + '*'\n",
    "\n",
    "        \n",
    "        "
   ]
  },
  {
   "cell_type": "code",
   "execution_count": 38,
   "metadata": {},
   "outputs": [
    {
     "name": "stdout",
     "output_type": "stream",
     "text": [
      "FPLFQQSSIEHLG\n",
      "YGYTILCLDV\n",
      "SSNYCIVCDYPPHNAVVTVASKGGLYGQSCLMYSVRSSAPCVYCR\n",
      "RSRVCTKIFEECRTNGAE\n",
      "PELGPPMTKMGLKRTNKIFKEKVLLLREGPTKKRYAIVSSNWYGGENALFQMHASFVVFSEIAISLNTTKLA\n",
      "STLTSSVPSWGPYF\n",
      "MFLCPRSNLKRRRNP\n",
      "APTPTLVNKQKRVICPWSDELPG\n",
      "ICWHRRARPSSTIFLGSLS\n",
      "GSFLVEW\n",
      "RMLSPDCYYPDRKDPIHR\n",
      "\n",
      "TDT\n",
      "LHEWPHRIVIRSDERPSFGDT\n",
      "DLSPNWSPRGV\n",
      "*\n",
      "SLCSNSRRLSIWASTAILFYVWTYNLLITALFATIPLIMPLLLSRRRGAYMDNRA\n",
      "CIRYGRVPLACTAGNDHVCVLKSLRNVAPTGPNDQSSALL\n",
      "PKWV\n",
      "REQIKFSKKRYYYYVRGQLKRDTPSFPRIGMVGKTLYSKCMRAS\n",
      "CSAK\n",
      "LFR\n",
      "TLRSSHNRP\n",
      "PRPSPVGGHTSKCFCVLVVI\n",
      "RGAGIHEPRPPRS\n",
      "TSRNELFVPGPMSCPDRYVGIAELGRAPQSFWGRFHKDHFWLSGNACSRQIVTTPIERTPYIDNRRIRSFTNGHIE\n",
      "LFVLMRDHLSVTHRTCLPIGPLGEFN*\n",
      "PFVPTVVD\n",
      "ASGLVRLYYFMFGRIIF\n",
      "LLHCLRLSPS\n",
      "CRCYCRVEGGPIWTIVPNVFGTVECPLRVLQVTITCVY\n",
      "NL\n",
      "GMSHQRGRMTRARPSYDQNGFEENK\n",
      "NFQRKGTITT\n",
      "GAN\n",
      "KEIRHRFLELVWWGKRFIPNACELRSVQRNSYFAEHYEARIIDLNLVRPQLGAILLNVSVSS\n",
      "\n",
      "SKEAPESMSPDPHAREQAETSYLSLVR\n",
      "AARIDMLASQSSAELHNLSGVAFIRIISG\n",
      "VVTHALARLLLPRSKGPHT\n",
      "IIDGYVASRMATSNSYSF\n",
      "\n",
      "ETIFR\n",
      "HIGPVSQLVPSGSL*\n"
     ]
    }
   ],
   "source": [
    "RF1, RF2, RF3 = DNA_to_prot(sequence), DNA_to_prot(sequence[1:]), DNA_to_prot(sequence[2:])\n",
    "\n",
    "print(RF1)\n",
    "print(RF2)\n",
    "print(RF3)\n"
   ]
  },
  {
   "cell_type": "code",
   "execution_count": 39,
   "metadata": {},
   "outputs": [],
   "source": [
    "def find_ORF(seq):\n",
    "    seq = seq.split()\n",
    "    ORF_list = [i[i.find('M'):] for i in seq if ('M' in i) and ('*' not in i)]\n",
    "    result_ORF = []\n",
    "    for seq in ORF_list:\n",
    "        for m in re.finditer('M',seq):\n",
    "            result_ORF.append(seq[m.start():])\n",
    "    return result_ORF\n",
    "            "
   ]
  },
  {
   "cell_type": "code",
   "execution_count": 40,
   "metadata": {},
   "outputs": [
    {
     "name": "stdout",
     "output_type": "stream",
     "text": [
      "MYSVRSSAPCVYCR\n",
      "MTKMGLKRTNKIFKEKVLLLREGPTKKRYAIVSSNWYGGENALFQMHASFVVFSEIAISLNTTKLA\n",
      "MGLKRTNKIFKEKVLLLREGPTKKRYAIVSSNWYGGENALFQMHASFVVFSEIAISLNTTKLA\n",
      "MHASFVVFSEIAISLNTTKLA\n",
      "MFLCPRSNLKRRRNP\n",
      "MLSPDCYYPDRKDPIHR\n",
      "MPLLLSRRRGAYMDNRA\n",
      "MDNRA\n",
      "MVGKTLYSKCMRAS\n",
      "MRAS\n",
      "MSCPDRYVGIAELGRAPQSFWGRFHKDHFWLSGNACSRQIVTTPIERTPYIDNRRIRSFTNGHIE\n",
      "MFGRIIF\n",
      "MSHQRGRMTRARPSYDQNGFEENK\n",
      "MTRARPSYDQNGFEENK\n",
      "MSPDPHAREQAETSYLSLVR\n",
      "MLASQSSAELHNLSGVAFIRIISG\n",
      "MATSNSYSF\n"
     ]
    }
   ],
   "source": [
    "# ORF1 = [i[i.find('M'):] for i in RF1.split() if 'M' in i]\n",
    "ORFs = find_ORF(RF1) + find_ORF(RF2) + find_ORF(RF3)\n",
    "print('\\n'.join(ORFs))"
   ]
  },
  {
   "cell_type": "code",
   "execution_count": 41,
   "metadata": {},
   "outputs": [
    {
     "data": {
      "text/plain": [
       "'UAUUAAACUCCCCGAGGGGACCAAUUGGGAGACAGGUCCUAUGUGUCACCGAAAGAUGGUCUCUCAUCAGAACGAAUAACUAUUCGAUGUGGCCAUUCGUGAAGCUACGUAUCCGUCUAUUAUCUAUGUAUGGGGUCCUUUCGAUCGGGGUAGUAACAAUCUGGCGAGAGCAUGCGUUACCACUCAACCAGAAAUGAUCCUUAUGAAAGCGACCCCAGAAAGAUUGUGGAGCUCGGCCGAGCUCUGCGAUGCCAACAUAUCUAUCCGGGCAGCUCAUCGGACCAGGGACAAAUAACUCGUUUCUGCUUGUUCACGAGCGUGGGGGUCGGGGCUCAUGGAUUCCGGCGCCUCUUUAGAUUACUACGAGGACACAGAAACAUUUAGAAGUAUGGCCCCCAACUGGGGACGGACGAGGUUAAGGUCGAUUAUGCGAGCUUCGUAGUGUUCAGCGAAAUAGCUAUUUCGCUGAACACUACGAAGCUCGCAUGCAUUUGGAAUAAAGCGUUUUCCCCACCAUACCAAUUCGAGGAAACGAUGGCGUAUCUCUUUUUAGUUGGCCCCUCACGUAGUAAUAGUACCUUUUCUUUGAAAAUUUUAUUUGUUCUCUUCAAACCCAUUUUGGUCAUAGGAGGGCCGAGCUCUGGUCAUUCGGCCCCGUUGGUGCGACAUUCCUCAAAGAUUUUAGUACACACACGUGAUCGUUACCUGCAGUACACGCAAGGGGCACUCGACCGUACCGAAUACAUUAGGCACGAUUGUCCAUAUAGGCCCCCCUUCGACGCGACAGUAACAACGGCAUUAUGAGGGGGAUAGUCGCAAACAAUGCAGUAAUUAGAAGAUUAUACGUCCAAACAUAAAAUAGUAUAGCCGUACUAGCCCAGAUGCUCAAUCGACGACUGUUGGAACAAAGGGAA'"
      ]
     },
     "execution_count": 41,
     "metadata": {},
     "output_type": "execute_result"
    }
   ],
   "source": [
    "rev_dict = {'A':'U', 'U':'A','G':'C','C':'G'}\n",
    "rev_seq = [rev_dict[i] for i in sequence]\n",
    "rev_seq = ''.join(rev_seq[-1::-1])\n",
    "rev_seq\n"
   ]
  },
  {
   "cell_type": "code",
   "execution_count": 42,
   "metadata": {},
   "outputs": [
    {
     "name": "stdout",
     "output_type": "stream",
     "text": [
      "MSHQRGRMTRARPSYDQNGFEENK\n",
      "MPLLLSRRRGAYMDNRA\n",
      "MILMKATPERLWSSAELCDANISIRAAHRTRDK\n",
      "MAYLFLVGPSRSNSTFSLKILFVLFKPILVIGGPSSGHSAPLVRHSSKILVHTRDRYLQYTQGALDRTEYIRHDCPYRPPFDATVTTAL\n",
      "MWPFVKLRIRLLSMYGVLSIGVVTIWREHALPLNQK\n",
      "MLSPDCYYPDRKDPIHR\n",
      "MRGIVANNAVIRRLYVQT\n",
      "MTKMGLKRTNKIFKEKVLLLREGPTKKRYAIVSSNWYGGENALFQMHASFVVFSEIAISLNTTKLA\n",
      "MGLKRTNKIFKEKVLLLREGPTKKRYAIVSSNWYGGENALFQMHASFVVFSEIAISLNTTKLA\n",
      "MKATPERLWSSAELCDANISIRAAHRTRDK\n",
      "MRAS\n",
      "MCHRKMVSHQNE\n",
      "MVSHQNE\n",
      "MVGKTLYSKCMRAS\n",
      "MATSNSYSF\n",
      "MFLCPRSNLKRRRNP\n",
      "MDSGASLDYYEDTETFRSMAPNWGRTRLRSIMRAS\n",
      "MQ\n",
      "MPTYLSGQLIGPGTNNSFLLVHERGGRGSWIPAPL\n",
      "MHASFVVFSEIAISLNTTKLA\n",
      "MTRARPSYDQNGFEENK\n",
      "MYGVLSIGVVTIWREHALPLNQK\n",
      "MGSFRSG\n",
      "MLASQSSAELHNLSGVAFIRIISG\n",
      "MDNRA\n",
      "MAPNWGRTRLRSIMRAS\n",
      "MSPDPHAREQAETSYLSLVR\n",
      "MHLE\n",
      "MRYHSTRNDPYESDPRKIVELGRALRCQHIYPGSSSDQGQITRFCLFTSVGVGAHGFRRLFRLLRGHRNI\n",
      "MYSVRSSAPCVYCR\n",
      "MFGRIIF\n",
      "MSCPDRYVGIAELGRAPQSFWGRFHKDHFWLSGNACSRQIVTTPIERTPYIDNRRIRSFTNGHIE\n"
     ]
    }
   ],
   "source": [
    "rRF1, rRF2, rRF3 = DNA_to_prot(rev_seq), DNA_to_prot(rev_seq[1:]), DNA_to_prot(rev_seq[2:])\n",
    "# print(rRF1)\n",
    "# print(rRF2)\n",
    "# print(rRF3)\n",
    "rORFs = find_ORF(rRF1) + find_ORF(rRF2) + find_ORF(rRF3)\n",
    "total_orfs = list(set(rORFs + ORFs))\n",
    "print('\\n'.join(total_orfs))"
   ]
  },
  {
   "cell_type": "code",
   "execution_count": null,
   "metadata": {},
   "outputs": [],
   "source": []
  }
 ],
 "metadata": {
  "kernelspec": {
   "display_name": "py12",
   "language": "python",
   "name": "python3"
  },
  "language_info": {
   "codemirror_mode": {
    "name": "ipython",
    "version": 3
   },
   "file_extension": ".py",
   "mimetype": "text/x-python",
   "name": "python",
   "nbconvert_exporter": "python",
   "pygments_lexer": "ipython3",
   "version": "3.12.8"
  }
 },
 "nbformat": 4,
 "nbformat_minor": 2
}
