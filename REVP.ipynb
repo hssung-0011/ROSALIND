{
 "cells": [
  {
   "cell_type": "markdown",
   "metadata": {},
   "source": [
    "**Locating Restriction Sites**"
   ]
  },
  {
   "cell_type": "markdown",
   "metadata": {},
   "source": [
    "A DNA string is a reverse palindrome if it is equal to its reverse complement. For instance, GCATGC is a reverse palindrome because its reverse complement is GCATGC. See Figure 2."
   ]
  },
  {
   "cell_type": "code",
   "execution_count": 67,
   "metadata": {},
   "outputs": [
    {
     "name": "stdout",
     "output_type": "stream",
     "text": [
      "CGCGTCAATCTCGCCAATCATACTTACAACCCACCCAGCAGCGCCTAGTGGGGGTGCGTCATGTCCCCCCCTTCGGGATAATACCATCCGAATCGTAATTAGCTATATGAAAGCATGGATCTGTGTTTGGACAGTCAACCTCGCGTCATTACGGACGACCCCGGCCTATAACGTTGACACGGGGAACTTCCAGTCTTTACTCGCTGACAGAGACTCTAACGTACGACATGATACCTGCAGCGTTTAGTTCGTGACAACATAATAACTGCAAGCTCTGACTCAGCATTGTCCACCCCAAGTGGGTCCTCAATAGGCGGCAATCTCTAATAAAATGATGTTGGAGGTAGCCTTTCGATGTGGGCTTTGTCACCGTGTACACGACTCCACTACCATACTGTATCGCGAAGTACCAATATCTACGCGCTTAGGATTATTTACTTCTGGTGATCATCATCGACGTATGATGATGTAATATTCAATAGTATGTATGCCGGCATATATGGCGGCCCGAACATCGATAGCTCCTGCATAAGGTTGGTCCCTGTCACATTACTGCGGTGTCAACAGTGAATGGTATGAAAGCGTTATAGGACTTCCGTAGAGCCACTGATGTGACGGACACACGTCTACGGGCAGATTCGCGATATGCGTACTGGGACGAGCGCAGCTTTCGGGAAGCGACAGGATGGGTAGTGGAGATTGGGTACACACGGGCCATCCAGGACCAGCTGCTCTCCCCCTTGCTCTAGTACTTAAGCGTCCTACGTCTTGCTGTCAAGGCAGTTGCCAGAGTATCATACTAAGGAAGAGTGAAGTAGCTCCTACAGATATCGTGAGAATCTGTGGGACATTTACCATGACGCGGTTTGCTCAATACGCAGGTTCACAGTGGAGACATATTTTAGATACTACGGCTAGTGTCACCCTATACTTAGTGGAAAGTCCTGTTGTACTTCCGAGAGACTCTTTTGAAGAACTGCTATA\n"
     ]
    }
   ],
   "source": [
    "filepath = \"/mnt/c/Data/ROSALIND_download/rosalind_revp.txt\"\n",
    "with open(filepath) as f:\n",
    "    sequence = ''\n",
    "    for line in f.readlines():\n",
    "        line = line.rstrip()\n",
    "        if '>' in line:\n",
    "            continue\n",
    "        sequence += line\n",
    "print(sequence)        \n",
    "\n",
    "revbase_dict = {'A':'T',\n",
    "               'T':'A',\n",
    "               'C':'G',\n",
    "               'G':'C'}\n"
   ]
  },
  {
   "cell_type": "markdown",
   "metadata": {},
   "source": [
    "첫 두개의 서열을 기준으로 reverse palindrom의 후보를 찾고, 그 후보들을 검증하는 방식."
   ]
  },
  {
   "cell_type": "code",
   "execution_count": 68,
   "metadata": {},
   "outputs": [],
   "source": [
    "def find_revseq(seq):\n",
    "    '''다루고자 하는 서열을 입력으로 받는다.\n",
    "    전체 서열 seq 중 첫 2개의 역전사 서열을 모두 찾아서 해당 역전사 서열들의 시작 위치를 리스트로 반환'''\n",
    "    rev_chr = ''.join(reversed([revbase_dict[i] for i in seq[0:2]]))\n",
    "    chr_indx = [i for i in range(1,len(seq)-len(rev_chr)+1) if seq[i:i+len(rev_chr)] == rev_chr and i%2==0] #역전사 -> 홀수번째 위치는 역전사 만족 불가능능\n",
    "    return chr_indx"
   ]
  },
  {
   "cell_type": "code",
   "execution_count": 69,
   "metadata": {},
   "outputs": [],
   "source": [
    "def palindrom(seq, index_list):\n",
    "    '''index list와 전체 서열 입력으로 받는다. 이 때 index list에는 seq 중 첫 2개의 역전사에 해당하는 모든 서열의 시작 위치 포함됨.\n",
    "    index list로 표시된 모든 역전사 서열 중 reverse palindrom에 해당하는 것만 찾는 함수.\n",
    "    시작 위치는 모두 동일하므로, reverse palindrom에 해당하는 서열들의 길이만 리스트로로 반환함.\n",
    "    '''\n",
    "    seq_len = 2\n",
    "    return_list = []\n",
    "    while index_list:\n",
    "        if index_list[0] == seq_len:\n",
    "            return_list.append(2*seq_len)\n",
    "            index_list.remove(index_list[0])\n",
    "        index_list = [i-1 for i in index_list if seq[seq_len] == revbase_dict[seq[i-1]]]\n",
    "        seq_len += 1\n",
    "        \n",
    "    return return_list\n",
    "        "
   ]
  },
  {
   "cell_type": "code",
   "execution_count": 70,
   "metadata": {},
   "outputs": [],
   "source": [
    "def seq_to_palindrom(num, seq):\n",
    "    indx_list = find_revseq(seq)\n",
    "    pal_list = palindrom(seq, indx_list)\n",
    "    return [(num+1, i) for i in pal_list]\n",
    "    "
   ]
  },
  {
   "cell_type": "code",
   "execution_count": 71,
   "metadata": {},
   "outputs": [
    {
     "name": "stdout",
     "output_type": "stream",
     "text": [
      "[(1, 4), (41, 4), (45, 4), (60, 4), (96, 6), (97, 4), (100, 6), (101, 4), (104, 4), (105, 4), (114, 4), (118, 4), (142, 4), (161, 4), (163, 4), (167, 4), (170, 6), (171, 4), (219, 4), (220, 6), (221, 4), (227, 4), (235, 6), (236, 4), (267, 4), (271, 4), (352, 4), (371, 10), (372, 8), (373, 6), (374, 4), (400, 6), (401, 4), (407, 4), (413, 4), (420, 4), (421, 4), (445, 6), (446, 4), (454, 4), (457, 4), (471, 6), (472, 4), (487, 12), (488, 10), (489, 8), (490, 6), (491, 4), (495, 8), (496, 4), (496, 6), (497, 4), (498, 4), (505, 4), (514, 6), (515, 4), (520, 4), (526, 4), (586, 4), (623, 4), (639, 6), (640, 4), (644, 4), (650, 4), (662, 4), (666, 4), (704, 4), (713, 4), (726, 6), (727, 4), (746, 4), (748, 6), (749, 4), (752, 6), (753, 4), (764, 4), (817, 4), (827, 6), (828, 4), (856, 4), (861, 4), (897, 4), (915, 4), (927, 4), (950, 4), (981, 4)]\n"
     ]
    }
   ],
   "source": [
    "total_list = []\n",
    "for i in range(len(sequence)):\n",
    "    total_list.extend(seq_to_palindrom(i,sequence[i:]))\n",
    "print(total_list)\n",
    "    "
   ]
  },
  {
   "cell_type": "code",
   "execution_count": 72,
   "metadata": {},
   "outputs": [
    {
     "name": "stdout",
     "output_type": "stream",
     "text": [
      "1 4\n",
      "41 4\n",
      "45 4\n",
      "60 4\n",
      "96 6\n",
      "97 4\n",
      "100 6\n",
      "101 4\n",
      "104 4\n",
      "105 4\n",
      "114 4\n",
      "118 4\n",
      "142 4\n",
      "161 4\n",
      "163 4\n",
      "167 4\n",
      "170 6\n",
      "171 4\n",
      "219 4\n",
      "220 6\n",
      "221 4\n",
      "227 4\n",
      "235 6\n",
      "236 4\n",
      "267 4\n",
      "271 4\n",
      "352 4\n",
      "371 10\n",
      "372 8\n",
      "373 6\n",
      "374 4\n",
      "400 6\n",
      "401 4\n",
      "407 4\n",
      "413 4\n",
      "420 4\n",
      "421 4\n",
      "445 6\n",
      "446 4\n",
      "454 4\n",
      "457 4\n",
      "471 6\n",
      "472 4\n",
      "487 12\n",
      "488 10\n",
      "489 8\n",
      "490 6\n",
      "491 4\n",
      "495 8\n",
      "496 4\n",
      "496 6\n",
      "497 4\n",
      "498 4\n",
      "505 4\n",
      "514 6\n",
      "515 4\n",
      "520 4\n",
      "526 4\n",
      "586 4\n",
      "623 4\n",
      "639 6\n",
      "640 4\n",
      "644 4\n",
      "650 4\n",
      "662 4\n",
      "666 4\n",
      "704 4\n",
      "713 4\n",
      "726 6\n",
      "727 4\n",
      "746 4\n",
      "748 6\n",
      "749 4\n",
      "752 6\n",
      "753 4\n",
      "764 4\n",
      "817 4\n",
      "827 6\n",
      "828 4\n",
      "856 4\n",
      "861 4\n",
      "897 4\n",
      "915 4\n",
      "927 4\n",
      "950 4\n",
      "981 4\n"
     ]
    }
   ],
   "source": [
    "for tup in total_list:\n",
    "    if tup[1] <= 12:\n",
    "        print(f\"{tup[0]} {tup[1]}\")"
   ]
  },
  {
   "cell_type": "code",
   "execution_count": null,
   "metadata": {},
   "outputs": [],
   "source": []
  }
 ],
 "metadata": {
  "kernelspec": {
   "display_name": "py12",
   "language": "python",
   "name": "python3"
  },
  "language_info": {
   "codemirror_mode": {
    "name": "ipython",
    "version": 3
   },
   "file_extension": ".py",
   "mimetype": "text/x-python",
   "name": "python",
   "nbconvert_exporter": "python",
   "pygments_lexer": "ipython3",
   "version": "3.12.8"
  }
 },
 "nbformat": 4,
 "nbformat_minor": 2
}
