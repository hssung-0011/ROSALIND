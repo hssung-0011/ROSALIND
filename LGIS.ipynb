{
 "cells": [
  {
   "cell_type": "markdown",
   "metadata": {},
   "source": [
    "**Longest Increasing Subsequence**"
   ]
  },
  {
   "cell_type": "markdown",
   "metadata": {},
   "source": [
    "A subsequence of a permutation is a collection of elements of the permutation in the order that they appear. For example, (5, 3, 4) is a subsequence of (5, 1, 3, 4, 2).\n",
    "\n",
    "A subsequence is increasing if the elements of the subsequence increase, and decreasing if the elements decrease. For example, given the permutation (8, 2, 1, 6, 5, 7, 4, 3, 9), an increasing subsequence is (2, 6, 7, 9), and a decreasing subsequence is (8, 6, 5, 4, 3). You may verify that these two subsequences are as long as possible."
   ]
  },
  {
   "cell_type": "markdown",
   "metadata": {},
   "source": [
    "**못풀어서 결국 다른 사람의 풀이 찾아봄**\n",
    "\n",
    "아래는 그 풀이들."
   ]
  },
  {
   "cell_type": "code",
   "execution_count": 47,
   "metadata": {},
   "outputs": [
    {
     "name": "stdout",
     "output_type": "stream",
     "text": [
      "[2524, 9137, 1843, 3577, 334] [7662, 5857, 7373, 5864, 9025]\n",
      "[272, 320, 327] [122, 90, 52, 16]\n"
     ]
    }
   ],
   "source": [
    "def lgis(seq):\n",
    "    l=len(seq)\n",
    "    m=[1]*l#최장거리 저장\n",
    "    p=[-1]*l#직전 숫자 저장\n",
    "\n",
    "    for i in range(l):\n",
    "        for j in range(i):\n",
    "            if seq[j] < seq[i] and m[i] < m[j]+1:#더 작은거 확인/최단거리 더 짧음\n",
    "                m[i] = m[j]+1#최장거리 갱신\n",
    "                p[i] = j#최장거리 직전 숫자 저장\n",
    "    \n",
    "    long = max(m)#최장거리\n",
    "    point = m.index(long) #최장의 끝의 인덱스\n",
    "\n",
    "    sub=[]#역추적용\n",
    "    while point != -1:\n",
    "        sub.append(seq[point])\n",
    "        point = p[point]\n",
    "    \n",
    "    sub.reverse()#뒤에서부터 넣었으니 뒤집어주기\n",
    "    return(sub)\n",
    "\n",
    "def wrt(seq):#파일로 써주는 형식으로\n",
    "    st=''\n",
    "    for i in seq:\n",
    "        st=st+str(i)+' '\n",
    "    st=st+'\\n'\n",
    "    wfile.write(st)\n",
    "\n",
    "file = open(r'/mnt/c/Data/ROSALIND_download/rosalind_lgis.txt','r')\n",
    "wfile=open(r'/mnt/c/Data/ROSALIND_download/sample.txt','w')\n",
    "data=str(next(file))\n",
    "data=list(map(int,(data.rstrip()).split(' ')))#원하는 형식으로 바꿔줌\n",
    "print(data[:5],data[-5:])\n",
    "\n",
    "s1=lgis(data)\n",
    "wrt(s1)\n",
    "\n",
    "s2=lgis([-x for x in data])#역으로 하면 작은 순으로 됨\n",
    "s2 = [-x for x in s2]\n",
    "wrt(s2)\n",
    "print(s1[:3], s2[-4:])"
   ]
  },
  {
   "cell_type": "code",
   "execution_count": null,
   "metadata": {},
   "outputs": [],
   "source": [
    "\n",
    "def lis(arr):\n",
    "    n = len(arr)\n",
    "    m = [0] * n\n",
    "    for x in range(n - 2, -1, -1):\n",
    "        for y in range(n - 1, x, -1):\n",
    "            if arr[x] < arr[y] and m[x] <= m[y]:\n",
    "                m[x] += 1\n",
    "        max_value = max(m)\n",
    "        result = []\n",
    "        for i in range(n):\n",
    "            if m[i] == max_value:\n",
    "                result.append(arr[i])\n",
    "                max_value -= 1\n",
    "    return result\n",
    "\n",
    "\n",
    "def lds(arr):\n",
    "    n = len(arr)\n",
    "    m = [0] * n\n",
    "    for x in range(n - 2, -1, -1):\n",
    "        for y in range(n - 1, x, -1):\n",
    "            if arr[x] > arr[y] and m[x] <= m[y]:\n",
    "                m[x] += 1\n",
    "        max_value = max(m)\n",
    "        result = []\n",
    "        for i in range(n):\n",
    "            if m[i] == max_value:\n",
    "                result.append(arr[i])\n",
    "                max_value -= 1\n",
    "    return result\n",
    "\n",
    "\n",
    "file = 'input/rosalind_lgis.txt'\n",
    "with open(file) as f:\n",
    "    n = int(f.readline())\n",
    "    numbers = list(map(int, f.readline().strip().split()))\n",
    "lis_seq = lis(numbers)\n",
    "print(' '.join(map(str, lis_seq)))\n",
    "lds_seq = lds((numbers))\n",
    "print(' '.join(map(str, lds_seq)))"
   ]
  },
  {
   "cell_type": "markdown",
   "metadata": {},
   "source": [
    "**내 코드**"
   ]
  },
  {
   "cell_type": "code",
   "execution_count": 11,
   "metadata": {},
   "outputs": [],
   "source": [
    "input_num = 5 # 수열 길이\n",
    "permutlist = [5,1,4,2,3]# 주어진 수열"
   ]
  },
  {
   "cell_type": "code",
   "execution_count": 22,
   "metadata": {},
   "outputs": [
    {
     "name": "stdout",
     "output_type": "stream",
     "text": [
      "[10, 1, 7, 2, 5, 3, 6, 8, 9, 4]\n"
     ]
    }
   ],
   "source": [
    "import random\n",
    "a = [i for i in range(1,11)]\n",
    "random.shuffle(a)\n",
    "print(a)"
   ]
  },
  {
   "cell_type": "code",
   "execution_count": null,
   "metadata": {},
   "outputs": [],
   "source": [
    "\n",
    "def increasing_restnumlist(numlist):\n",
    "    \"\"\"리스트 내 특정 값 A에 대해, 그 A 뒤에 있는 모든 값 중 A보다 큰 값의 개수\"\"\"\n",
    "    restlist = []\n",
    "    for k in range(len(numlist)):\n",
    "        restnumber = len([l for l in numlist[k+1:] if l > numlist[k]])\n",
    "        restlist.append(restnumber)\n",
    "    return restlist\n",
    "\n",
    "# def increasing_subseq(numlist):\n",
    "#     result_list = []\n",
    "#     for i in range(len(numlist)):\n",
    "#         templist = [numlist[i]]\n",
    "#         for j in numlist[i+1:]:\n",
    "#             templist.append(j) if templist[-1] < j else None\n",
    "#         result_list = templist if len(result_list) < len(templist) else result_list\n",
    "#     return result_list\n",
    "\n",
    "        "
   ]
  },
  {
   "cell_type": "code",
   "execution_count": null,
   "metadata": {},
   "outputs": [],
   "source": [
    "## 리스트 입력받아서, 그 리스트의 가장 긴 오름차순 sublist 반환 (리스트 첫번째 값 기준으로 오름차순 리스트 반환)\n",
    "def inc_sublist(inputlist):\n",
    "    sublist = [inputlist[0]]\n",
    "    for i in range(1,len(inputlist)):\n",
    "        sublist.append(inputlist[i]) if inputlist[i] >sublist[-1] else None\n",
    "    return sublist"
   ]
  },
  {
   "cell_type": "code",
   "execution_count": null,
   "metadata": {},
   "outputs": [],
   "source": [
    "# sublist의 마지막 값에 해당하는걸 원래 리스트에서 제거하고, 다시 오름차순 리스트 받기. 이 때 길이가 긴 쪽을 sublist로 반환\n",
    "def modify_and_compare(totallist,sublist):\n",
    "    last_value = sublist[-1]\n",
    "    totallist.remove(last_value)\n",
    "    modified_sublist = inc_sublist(totallist)\n",
    "    return modified_sublist if len(modified_sublist) > len(sublist) else sublist\n",
    "    "
   ]
  },
  {
   "cell_type": "code",
   "execution_count": null,
   "metadata": {},
   "outputs": [],
   "source": [
    "## 특정 위치의 값 제거하고 오름차순순"
   ]
  },
  {
   "cell_type": "code",
   "execution_count": 24,
   "metadata": {},
   "outputs": [],
   "source": [
    "## 내림차차순 리스트 생성\n",
    "def decreasing_subseq(numlist):\n",
    "    \n",
    "    result_list = []\n",
    "    for i in range(len(numlist)):\n",
    "        templist = [numlist[i]]\n",
    "        for j in numlist[i+1:]:\n",
    "            templist.append(j) if templist[-1] > j else None\n",
    "        result_list = templist if len(result_list) < len(templist) else result_list\n",
    "    return result_list"
   ]
  },
  {
   "cell_type": "code",
   "execution_count": null,
   "metadata": {},
   "outputs": [
    {
     "name": "stdout",
     "output_type": "stream",
     "text": [
      "[10, 1, 7, 2, 5, 3, 6, 8, 9, 4]\n",
      "[0, 8, 2, 6, 3, 4, 2, 1, 0, 0]\n",
      "[2, 5, 6, 8, 9]\n",
      "[2, 5, 6, 8, 9]\n"
     ]
    }
   ],
   "source": [
    "print(a)\n",
    "print(increasing_restnumlist(a))\n",
    "print(increasing_subseq(a))\n",
    "print(inc_sublist(a[3:]))\n",
    "ab = \n"
   ]
  },
  {
   "cell_type": "code",
   "execution_count": null,
   "metadata": {},
   "outputs": [],
   "source": [
    "def smallest_index(permut_list, guidnum):\n",
    "    \"\"\"permutlist에서 guidnum 보다  크지만 그중 가장 작은 수의 위치 반환\"\"\"\n",
    "    smallest = min([num for num in permut_list if num > guidnum])\n",
    "    return permut_list.index(smallest)"
   ]
  },
  {
   "cell_type": "code",
   "execution_count": null,
   "metadata": {},
   "outputs": [],
   "source": [
    "for i in range(1,input_num+1):\n",
    "    temp_list = [i]\n",
    "    curr_index = permutlist.index(i)\n",
    "    while True:\n",
    "        curr_index = smallest_index(permutlist, curr_index)\n",
    "        temp_list.append(permutlist[curr_index])\n",
    "        "
   ]
  }
 ],
 "metadata": {
  "kernelspec": {
   "display_name": "py12",
   "language": "python",
   "name": "python3"
  },
  "language_info": {
   "codemirror_mode": {
    "name": "ipython",
    "version": 3
   },
   "file_extension": ".py",
   "mimetype": "text/x-python",
   "name": "python",
   "nbconvert_exporter": "python",
   "pygments_lexer": "ipython3",
   "version": "3.12.8"
  }
 },
 "nbformat": 4,
 "nbformat_minor": 2
}
