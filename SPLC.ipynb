{
 "cells": [
  {
   "cell_type": "markdown",
   "metadata": {},
   "source": [
    "**RNA Splicing**"
   ]
  },
  {
   "cell_type": "markdown",
   "metadata": {},
   "source": [
    "After identifying the exons and introns of an RNA string, we only need to delete the introns and concatenate the exons to form a new string ready for translation."
   ]
  },
  {
   "cell_type": "code",
   "execution_count": 73,
   "metadata": {},
   "outputs": [
    {
     "name": "stdout",
     "output_type": "stream",
     "text": [
      "{'>Rosalind_6613': 'ATGGTTCCCTCGTATACTGCTATCCGCGAATTGGCTATGAATTTCAGCGTGTAACATTTGGTTAACATGATTCTACTCCGAAAGCGTTCGTCGATTGGCACAATCCCTGTTAAAATGCCAACTCGTCCACCCACGGCCAACAGATGTAACAAACGTCTTTCCACACCGAAGTCATAGCTCAGATCCACACCGCCCTGAGACGTTCCCTACGCGCGCCACAAAAGCCTGGTCGGACCGACGGGGGGGTGAGCCGAACAATGGTCTGCCCGGTCAAATCCGGACGAACGTTGATGATCGTCGCACGATTGGTATCCACAACGTTAAAATTAGGTTCATACAAACGTTCAAAAATCGGATTAATGAAGGCCCTTCGTGCATTTGTACCACACTATTGACTATATGCATAATCCTTTCGAAGGCCGGGTTGTCACAGGTGTAGGATGTGTTATGCACACATATATCTTGAACGTGGTGCATGGAAAGCTTCAATCAGCCTCCTTACGCTTTTACTTTCGAATCCTTACGATCCAGTTAACCTCTTGTGCCTTGGGCCGACAGTCCTTCTTGCGGTTTTGCCCTTGTCGGGCTACCGCCGCGGAAGACTGAGAACTGTGTAGCGAGTGCATTTTGCGTCAGATCGATAACTCTAACCCGTTTATGAGGGAAAAGGGTAGAAGCGGCTAGCTAGATGTATACAGGCAGGGAGATCCTTGGCCCAAATATTGGATCCACCGATACATTGCTTCACTCGCACAGTCGCCAGAGGGAGTCCAACCGTACGAGTAGATGTCCGGGCAGAATCTACAGCCGAGGGCTGAGTGCACGTCATCACCCTGTAAGACGCGTACAACTGGAGAGGGTAGAAATTATTCGTCACAAAACAGCCTCGGATCTGTTTCTTGGGCTCAGCGACTATTAATGGTGTATGGTGA', '>Rosalind_3109': 'CATTGCTTCACTCGCACAGTCGCCAG', '>Rosalind_7287': 'GTGTAACATTTGGTTAACATGATTCTACTCCGAAAGCGTTCGTCGATT', '>Rosalind_8720': 'TTTACTTTCGAATCCTTACGATCCAGTTAACCT', '>Rosalind_3319': 'CGGAAGACTGAGAACTGTGT', '>Rosalind_0197': 'TCCACAACGTTAAAATTAGGTTCA', '>Rosalind_6043': 'GAGGGTAGAAATTATTCGTCACAAAACAGCCTCGGATCTGT', '>Rosalind_3801': 'CGAGGGCTGAGTGCACG', '>Rosalind_2058': 'GTGTAGGATGTGTTATGCACACATATATCTTGAACGTGG', '>Rosalind_7285': 'CGTCTTTCCA', '>Rosalind_9238': 'AAAGCCTGGTCGGACCGACGGGGGGGTGAGCCGAACAATGGTC', '>Rosalind_9215': 'TCTAACCCGTTTATGAGGGAAAAGGGTAGAAGCGGCTA', '>Rosalind_3820': 'CGTGCATTTGTACCACACTATTGACTATATGCATAATCCTT'}\n",
      "ATGGTTCCCTCGTATACTGCTATCCGCGAATTGGCTATGAATTTCAGCGTGTAACATTTGGTTAACATGATTCTACTCCGAAAGCGTTCGTCGATTGGCACAATCCCTGTTAAAATGCCAACTCGTCCACCCACGGCCAACAGATGTAACAAACGTCTTTCCACACCGAAGTCATAGCTCAGATCCACACCGCCCTGAGACGTTCCCTACGCGCGCCACAAAAGCCTGGTCGGACCGACGGGGGGGTGAGCCGAACAATGGTCTGCCCGGTCAAATCCGGACGAACGTTGATGATCGTCGCACGATTGGTATCCACAACGTTAAAATTAGGTTCATACAAACGTTCAAAAATCGGATTAATGAAGGCCCTTCGTGCATTTGTACCACACTATTGACTATATGCATAATCCTTTCGAAGGCCGGGTTGTCACAGGTGTAGGATGTGTTATGCACACATATATCTTGAACGTGGTGCATGGAAAGCTTCAATCAGCCTCCTTACGCTTTTACTTTCGAATCCTTACGATCCAGTTAACCTCTTGTGCCTTGGGCCGACAGTCCTTCTTGCGGTTTTGCCCTTGTCGGGCTACCGCCGCGGAAGACTGAGAACTGTGTAGCGAGTGCATTTTGCGTCAGATCGATAACTCTAACCCGTTTATGAGGGAAAAGGGTAGAAGCGGCTAGCTAGATGTATACAGGCAGGGAGATCCTTGGCCCAAATATTGGATCCACCGATACATTGCTTCACTCGCACAGTCGCCAGAGGGAGTCCAACCGTACGAGTAGATGTCCGGGCAGAATCTACAGCCGAGGGCTGAGTGCACGTCATCACCCTGTAAGACGCGTACAACTGGAGAGGGTAGAAATTATTCGTCACAAAACAGCCTCGGATCTGTTTCTTGGGCTCAGCGACTATTAATGGTGTATGGTGA ['CATTGCTTCACTCGCACAGTCGCCAG', 'GTGTAACATTTGGTTAACATGATTCTACTCCGAAAGCGTTCGTCGATT', 'TTTACTTTCGAATCCTTACGATCCAGTTAACCT', 'CGGAAGACTGAGAACTGTGT', 'TCCACAACGTTAAAATTAGGTTCA', 'GAGGGTAGAAATTATTCGTCACAAAACAGCCTCGGATCTGT', 'CGAGGGCTGAGTGCACG', 'GTGTAGGATGTGTTATGCACACATATATCTTGAACGTGG', 'CGTCTTTCCA', 'AAAGCCTGGTCGGACCGACGGGGGGGTGAGCCGAACAATGGTC', 'TCTAACCCGTTTATGAGGGAAAAGGGTAGAAGCGGCTA', 'CGTGCATTTGTACCACACTATTGACTATATGCATAATCCTT']\n"
     ]
    }
   ],
   "source": [
    "filepath = \"/mnt/c/Data/ROSALIND_download/rosalind_splc.txt\"\n",
    "seq_dict = {}\n",
    "with open(filepath) as f:\n",
    "    temp_list = []\n",
    "    curr_id = \"\"\n",
    "    for line in f.readlines():\n",
    "        line = line.rstrip()\n",
    "        if line.startswith('>'):\n",
    "            curr_id = line\n",
    "            seq_dict[curr_id] = \"\"\n",
    "            continue\n",
    "        seq_dict[curr_id] += line\n",
    "\n",
    "print(seq_dict)\n",
    "seq_list = list(seq_dict.values())\n",
    "DNA_string = seq_list[0]\n",
    "introns = seq_list[1:]\n",
    "\n",
    "print(DNA_string, introns)\n",
    "            \n",
    "    "
   ]
  },
  {
   "cell_type": "code",
   "execution_count": 74,
   "metadata": {},
   "outputs": [],
   "source": [
    "def translation(seq):\n",
    "    \"\"\"RNA 서열 받아서 단백질 서열 반환\"\"\"\n",
    "    # triplet codon 딕셔너리 생성성\n",
    "    trans = \"\"\"UUU F      CUU L      AUU I      GUU V\n",
    "    UUC F      CUC L      AUC I      GUC V\n",
    "    UUA L      CUA L      AUA I      GUA V\n",
    "    UUG L      CUG L      AUG M      GUG V\n",
    "    UCU S      CCU P      ACU T      GCU A\n",
    "    UCC S      CCC P      ACC T      GCC A\n",
    "    UCA S      CCA P      ACA T      GCA A\n",
    "    UCG S      CCG P      ACG T      GCG A\n",
    "    UAU Y      CAU H      AAU N      GAU D\n",
    "    UAC Y      CAC H      AAC N      GAC D\n",
    "    UAA Stop   CAA Q      AAA K      GAA E\n",
    "    UAG Stop   CAG Q      AAG K      GAG E\n",
    "    UGU C      CGU R      AGU S      GGU G\n",
    "    UGC C      CGC R      AGC S      GGC G\n",
    "    UGA Stop   CGA R      AGA R      GGA G\n",
    "    UGG W      CGG R      AGG R      GGG G\"\"\".split()\n",
    "    rna_to_prot = {}\n",
    "\n",
    "    for num in range(0,len(trans),2):\n",
    "        rna_to_prot[trans[num]] = trans[num+1]\n",
    "    \n",
    "    \n",
    "    ## RNA -> AA\n",
    "    aa_seq = [rna_to_prot[seq[i:i+3]] for i in range(0,len(seq)-2,3)]\n",
    "    return ''.join(aa_seq)\n"
   ]
  },
  {
   "cell_type": "code",
   "execution_count": 75,
   "metadata": {},
   "outputs": [
    {
     "data": {
      "text/plain": [
       "737"
      ]
     },
     "execution_count": 75,
     "metadata": {},
     "output_type": "execute_result"
    }
   ],
   "source": [
    "introns[0]\n",
    "DNA_string.find(introns[0])"
   ]
  },
  {
   "cell_type": "code",
   "execution_count": 76,
   "metadata": {},
   "outputs": [
    {
     "data": {
      "text/plain": [
       "[48]"
      ]
     },
     "execution_count": 76,
     "metadata": {},
     "output_type": "execute_result"
    }
   ],
   "source": [
    "intron_index = [i for i in range(len(DNA_string)) if DNA_string[i:i+len(introns[1])]==introns[1]]\n",
    "intron_index "
   ]
  },
  {
   "cell_type": "markdown",
   "metadata": {},
   "source": [
    "일단 sample에서 DNA 내의 각 인트론은 하나뿐이었음 -> 하나라고 가정하고 코드 작성"
   ]
  },
  {
   "cell_type": "code",
   "execution_count": 77,
   "metadata": {},
   "outputs": [
    {
     "name": "stdout",
     "output_type": "stream",
     "text": [
      "ATGGTTCCCTCGTATACTGCTATCCGCGAATTGGCTATGAATTTCAGCGGCACAATCCCTGTTAAAATGCCAACTCGTCCACCCACGGCCAACAGATGTAACAAACACCGAAGTCATAGCTCAGATCCACACCGCCCTGAGACGTTCCCTACGCGCGCCACATGCCCGGTCAAATCCGGACGAACGTTGATGATCGTCGCACGATTGGTATACAAACGTTCAAAAATCGGATTAATGAAGGCCCTTTCGAAGGCCGGGTTGTCACAGTGCATGGAAAGCTTCAATCAGCCTCCTTACGCTCTTGTGCCTTGGGCCGACAGTCCTTCTTGCGGTTTTGCCCTTGTCGGGCTACCGCCGAGCGAGTGCATTTTGCGTCAGATCGATAACGCTAGATGTATACAGGCAGGGAGATCCTTGGCCCAAATATTGGATCCACCGATAAGGGAGTCCAACCGTACGAGTAGATGTCCGGGCAGAATCTACAGCTCATCACCCTGTAAGACGCGTACAACTGGATTCTTGGGCTCAGCGACTATTAATGGTGTATGGTGA AUGGUUCCCUCGUAUACUGCUAUCCGCGAAUUGGCUAUGAAUUUCAGCGGCACAAUCCCUGUUAAAAUGCCAACUCGUCCACCCACGGCCAACAGAUGUAACAAACACCGAAGUCAUAGCUCAGAUCCACACCGCCCUGAGACGUUCCCUACGCGCGCCACAUGCCCGGUCAAAUCCGGACGAACGUUGAUGAUCGUCGCACGAUUGGUAUACAAACGUUCAAAAAUCGGAUUAAUGAAGGCCCUUUCGAAGGCCGGGUUGUCACAGUGCAUGGAAAGCUUCAAUCAGCCUCCUUACGCUCUUGUGCCUUGGGCCGACAGUCCUUCUUGCGGUUUUGCCCUUGUCGGGCUACCGCCGAGCGAGUGCAUUUUGCGUCAGAUCGAUAACGCUAGAUGUAUACAGGCAGGGAGAUCCUUGGCCCAAAUAUUGGAUCCACCGAUAAGGGAGUCCAACCGUACGAGUAGAUGUCCGGGCAGAAUCUACAGCUCAUCACCCUGUAAGACGCGUACAACUGGAUUCUUGGGCUCAGCGACUAUUAAUGGUGUAUGGUGA\n"
     ]
    }
   ],
   "source": [
    "for intron in introns:\n",
    "    DNA_string = DNA_string.replace(intron,'')\n",
    "\n",
    "RNA_string = DNA_string.replace('T','U')\n",
    "print(DNA_string, RNA_string)"
   ]
  },
  {
   "cell_type": "code",
   "execution_count": 79,
   "metadata": {},
   "outputs": [
    {
     "name": "stdout",
     "output_type": "stream",
     "text": [
      "MVPSYTAIRELAMNFSGTIPVKMPTRPPTANRCNKHRSHSSDPHRPETFPTRATCPVKSGRTLMIVARLVYKRSKIGLMKALSKAGLSQCMESFNQPPYALVPWADSPSCGFALVGLPPSECILRQIDNARCIQAGRSLAQILDPPIRESNRTSRCPGRIYSSSPCKTRTTGFLGSATINGVW\n"
     ]
    }
   ],
   "source": [
    "aa_seq = translation(RNA_string).split('Stop')\n",
    "for aa in aa_seq:\n",
    "    if aa.startswith('M'):\n",
    "        print(aa)"
   ]
  },
  {
   "cell_type": "code",
   "execution_count": null,
   "metadata": {},
   "outputs": [],
   "source": []
  }
 ],
 "metadata": {
  "kernelspec": {
   "display_name": "py12",
   "language": "python",
   "name": "python3"
  },
  "language_info": {
   "codemirror_mode": {
    "name": "ipython",
    "version": 3
   },
   "file_extension": ".py",
   "mimetype": "text/x-python",
   "name": "python",
   "nbconvert_exporter": "python",
   "pygments_lexer": "ipython3",
   "version": "3.12.8"
  }
 },
 "nbformat": 4,
 "nbformat_minor": 2
}
