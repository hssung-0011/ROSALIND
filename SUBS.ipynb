{
 "cells": [
  {
   "cell_type": "markdown",
   "metadata": {},
   "source": [
    "**Finding a Motif in DNA**"
   ]
  },
  {
   "cell_type": "markdown",
   "metadata": {},
   "source": [
    "**Problem**\n",
    "Given two strings s and t, t is a substring of s if t is contained as a contiguous collection of symbols in s (as a result, t must be no longer than s).\n",
    "\n",
    "The position of a symbol in a string is the total number of symbols found to its left, including itself (e.g., the positions of all occurrences of 'U' in \"AUGCUUCAGAAAGGUCUUACG\" are 2, 5, 6, 15, 17, and 18). The symbol at position i of s is denoted by s[i].\n",
    "\n",
    "A substring of s can be represented as s[j:k], where j and k represent the starting and ending positions of the substring in s; for example, if s = \"AUGCUUCAGAAAGGUCUUACG\", then s[2:5] = \"UGCU\".\n",
    "\n",
    "The location of a substring s[j:k] is its beginning position j; note that t will have multiple locations in s if it occurs more than once as a substring of s (see the Sample below)."
   ]
  },
  {
   "cell_type": "code",
   "execution_count": 1,
   "metadata": {},
   "outputs": [],
   "source": [
    "import os"
   ]
  },
  {
   "cell_type": "code",
   "execution_count": 14,
   "metadata": {},
   "outputs": [
    {
     "name": "stdout",
     "output_type": "stream",
     "text": [
      "AGCTCCTCCTCCGAAGCTCCTCCGGCTCCTCCCCTCCTCCGAGTTAAGCCTCCTCCCGCACTCCTCCCTCCTCCCATCTCCTCCACTCCTCCAACTAGCTCCTCCTCTCCTCCAGGATTTTGGCTGGTTCCCTCCTCCTCTCCTCCGGCTCCTCCCTCCTCCGGGGCTCCTCCACTCCTCCTGCAACTCCTCCCTCCTCCTTCTCCTCCCTCCTCCTTGGAAGTACCTCCTCCACTGTCTCGCTCCTCCCTCCTCCATACTCCTCCCTATACTCCTCCCGCTCCTCCCTGCTCCTCCCTCCTCCATGCCTCCTCCCAAGAGTGCCCACTCCTCCTGGCTAATCGCTCCTCCTGACTCCTCCGAAAAGACCTCAGGCTCCTCCTCGCCTCCTCCCTCCAACTCCTCCGACTCCTCCATTCGCCTCCTCCCTCCTCCGAACTCCTCCCTCCTCCTACTCCTCCTACTCCTCCCTCCTCCACTCCTCCTACTCCTCCCCTCCTCCTCGGCTCCTCCCTCCTCCCCTCCTCCGCTCCTCCGCCTCCTCCAACTCCTCCCTCCTCCGGCTCCTCCGACTCCTCCGTTTCTCCTCCGCCTCCTCCTCTCCTCCTCCCTCCTCCCTCCTCCAACCTCCTCCTGGCTCCTCCCTTCTCCTCCCTCCTCCCTCCTCCAACTCCTCCCAGCTCCTCCTGGTACCTCCTCCGGTTGAGGTACTCCTCCCTCCTCCGCACTCCTCCACTCCTCCATTCTCCTCCATAGGTGGGCGGTCTCCTCCCTCCTCCCTCCTCCTCTCCTCCTCTTCCTCCTCCCTCCTCCTATTAGGCTCCTCCTATCCCCCTCCTCCCTCTCCTCCTTTCGCTCCTCCA CTCCTCCCT\n"
     ]
    }
   ],
   "source": [
    "i = 0 ## motif의 index 정보 담는 변수\n",
    "position = []\n",
    "file_path = \"/mnt/c/Data/ROSALIND_download/rosalind_subs.txt\"\n",
    "f = open(file_path).read().split('\\n')\n",
    "seq = f[0]\n",
    "motif = f[1]\n",
    "print(seq, motif)\n"
   ]
  },
  {
   "cell_type": "code",
   "execution_count": 15,
   "metadata": {},
   "outputs": [
    {
     "name": "stdout",
     "output_type": "stream",
     "text": [
      "[61, 149, 187, 203, 243, 260, 281, 291, 387, 422, 439, 464, 507, 548, 604, 611, 638, 648, 655, 711, 766, 773, 800, 835]\n"
     ]
    }
   ],
   "source": [
    "## motif 서열의 index 찾기\n",
    "while True:\n",
    "    if motif in seq[i:]:\n",
    "        index_num = seq.index(motif,i)\n",
    "        position.append(seq.index(motif,index_num)+1)\n",
    "        i = index_num + 1\n",
    "    else:\n",
    "        break\n",
    "        \n",
    "print(position)"
   ]
  },
  {
   "cell_type": "code",
   "execution_count": 16,
   "metadata": {},
   "outputs": [
    {
     "name": "stdout",
     "output_type": "stream",
     "text": [
      "61 149 187 203 243 260 281 291 387 422 439 464 507 548 604 611 638 648 655 711 766 773 800 835 "
     ]
    }
   ],
   "source": [
    "for i in position:\n",
    "    print(i, end=\" \")"
   ]
  },
  {
   "cell_type": "code",
   "execution_count": null,
   "metadata": {},
   "outputs": [],
   "source": []
  }
 ],
 "metadata": {
  "kernelspec": {
   "display_name": "py12",
   "language": "python",
   "name": "python3"
  },
  "language_info": {
   "codemirror_mode": {
    "name": "ipython",
    "version": 3
   },
   "file_extension": ".py",
   "mimetype": "text/x-python",
   "name": "python",
   "nbconvert_exporter": "python",
   "pygments_lexer": "ipython3",
   "version": "3.12.8"
  }
 },
 "nbformat": 4,
 "nbformat_minor": 2
}
