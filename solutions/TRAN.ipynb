{
 "cells": [
  {
   "cell_type": "markdown",
   "metadata": {},
   "source": [
    "**Transitions and Transversions**"
   ]
  },
  {
   "cell_type": "markdown",
   "metadata": {},
   "source": [
    "**Given**: Two DNA strings s1 and s2 of equal length (at most 1 kbp).\n",
    "\n",
    "**Return**: The transition/transversion ratio R(s1,s2)."
   ]
  },
  {
   "cell_type": "code",
   "execution_count": 1,
   "metadata": {},
   "outputs": [],
   "source": [
    "from Bio import SeqIO"
   ]
  },
  {
   "cell_type": "code",
   "execution_count": 22,
   "metadata": {},
   "outputs": [
    {
     "data": {
      "text/plain": [
       "['GCCGCACTGCACTAGGTACCCCTGTGATTCGATGCCGATATGACTATTGCGCTGAGCAAACTAGCCGTTGCTCCTCTCCCGAACTATGCTAAGATCGCTCATACGATCAGGGCAAATGCTCACTAGCCGGAGCCTTTACTTTCGAAATTGACTTTAGTCGAATCAACCTGGAAAAGTTGGATTATTTAGACTGAACAAAAGTATAGATTGAGTAGCTCAAAAACCTCGTAGACAGCCACTTCTATGTGACGGGCACTGAAAAAGGCTTTAGTATGCCCGTCCGGCTGAGACCACTGCACATTAAACGCAACTATTCATCCACGGACGACCAAAAGACTTAGACACTTCCATCCCGTCCATCTGACTAGATTTTTCTGTCCCGATCAAAGCTATAAAGTCTCGTAACGAGGCTGAGGAACTTGCGTTAACGTCAGTTAGAGTTCTCGACGATTTGGTACTTTATTATGGTACAAATCTGCATATGTAGGTTGCCGATGGATAACTAGCACTTCGTTGCAACAGGTCGTATCCCTGCCCGCAATGGTGGATGCGCACCTGAAGAGGTAAGCTTTCAATTGGTACTCAGAATGTTTTGCTGCTTAAACGAGCACACTACCCGTAGGACTTTCGGGGTAAGTATAACAGAGGCAGGTTGTGGCAGTTACATATCACGCAACATTACGTCTGAGGCGCAACTTAGCTGGGACGCAAGTGACTTGTTATGTTAGCCATTTGAATAGGTGGATTGAGCGCTGCCTCCATAGGCGCCGCAGGTGTTATCATTTTACACCAATGGCAGTTTCTCACGGCCGACACAGATCCCCTCACAATGCTGATTAGGTCAG',\n",
       " 'ACTGCACTGCACTAGGTAGCCTTGTGATCAGATGCCAAAATGACTATTGCACAGACCGAACCGACTGTTGCCTCTCTCCCGGACTCTGCTAAGGTTGCTCGTTCAGTAAAGTCCAACGCTCATTAGTGACAGCCTCCACCTATGGAGCCGACTTTAGTCGGCCCGACCTGGAAGAGTTGGATTATCTAGACTGAACAAAAGTCCAAATTGGCCAACCCAAAAGTTTAAGGGACAGCCACCTCTATGCTCCGGGTATCACGAAAGGTTACGGTAGCCCTGTGAGCCAGAGACCACTGCACGCCAAAATCAACAATTCGCTTACGGACAACCGAAAGTCTTGTAAGCTTTCGTCCCGTTCACCTAGCTAGATCCTTCCGCCGCCATTAAAGCCATAAAGTCGCTCAACGGGATTAAGGAACTCGTGTCAACAGCCTCTAGGGCTCTCCATAGTTAGGTATCCCATTGCGATACAAACCCGAGTACGTGGGCTGCCAACGAATGTTTCGCACTTCATTGCTATAAGTCACGTCCCTGTTCGCAATCGCCGATGCGTACTGCGGGAGGTAAGCTATCAATTGGTGTTCGAAACACCTTGCTGGTCAGACAAGCTTACCATCCATGGGACAATCGGGCTAGGTGTCTGAAAGGCGGATGGTGGAAATTACGTGTTGTGCACCACCACGTCTGAGGCACAGCTAGGCTGGGACATAAGTCATGGGTCACTTTAACTTTTTGAATGGCTGGGCGAAGCGTCACCTCCATGAGTGCAATGGGTGTCACCTTTCTACACCAGTGACAGTCGCGCACGATGGGCACAGATCCCCCCACAAAGCCGATCAGATCAG']"
      ]
     },
     "execution_count": 22,
     "metadata": {},
     "output_type": "execute_result"
    }
   ],
   "source": [
    "filepath = \"/mnt/c/Data/ROSALIND_download/rosalind_tran.txt\"\n",
    "sequences = [str(data.seq)for data in SeqIO.parse(filepath, 'fasta')]\n",
    "sequences\n"
   ]
  },
  {
   "cell_type": "code",
   "execution_count": 23,
   "metadata": {},
   "outputs": [
    {
     "name": "stdout",
     "output_type": "stream",
     "text": [
      "[('G', 'A'), ('C', 'T'), ('C', 'G'), ('C', 'T'), ('T', 'C'), ('C', 'A'), ('G', 'A'), ('T', 'A'), ('G', 'A'), ('T', 'A'), ('G', 'C'), ('A', 'G'), ('T', 'C'), ('A', 'G'), ('G', 'A'), ('C', 'T'), ('T', 'C'), ('C', 'T'), ('A', 'G'), ('A', 'C'), ('A', 'G'), ('C', 'T'), ('A', 'G'), ('A', 'T'), ('G', 'A'), ('A', 'G'), ('C', 'A'), ('G', 'A'), ('G', 'T'), ('A', 'C'), ('T', 'C'), ('C', 'T'), ('C', 'T'), ('C', 'G'), ('G', 'A'), ('G', 'C'), ('T', 'C'), ('T', 'C'), ('T', 'C'), ('T', 'A'), ('C', 'T'), ('A', 'G'), ('A', 'G'), ('T', 'C'), ('T', 'C'), ('A', 'G'), ('A', 'C'), ('T', 'C'), ('A', 'G'), ('A', 'G'), ('T', 'C'), ('A', 'C'), ('T', 'C'), ('G', 'A'), ('A', 'G'), ('G', 'C'), ('T', 'C'), ('G', 'A'), ('T', 'C'), ('A', 'G'), ('C', 'T'), ('C', 'T'), ('C', 'A'), ('G', 'A'), ('T', 'G'), ('A', 'G'), ('T', 'C'), ('T', 'C'), ('G', 'T'), ('A', 'C'), ('C', 'T'), ('C', 'T'), ('T', 'C'), ('G', 'A'), ('A', 'C'), ('A', 'G'), ('C', 'T'), ('T', 'A'), ('T', 'C'), ('A', 'G'), ('T', 'G'), ('G', 'C'), ('C', 'T'), ('C', 'G'), ('C', 'A'), ('G', 'C'), ('T', 'A'), ('A', 'G'), ('T', 'C'), ('T', 'C'), ('C', 'A'), ('G', 'T'), ('T', 'A'), ('A', 'G'), ('T', 'C'), ('C', 'T'), ('C', 'T'), ('G', 'A'), ('A', 'G'), ('A', 'T'), ('A', 'G'), ('G', 'T'), ('C', 'A'), ('A', 'G'), ('C', 'T'), ('A', 'G'), ('C', 'T'), ('T', 'C'), ('G', 'A'), ('A', 'G'), ('T', 'C'), ('T', 'C'), ('T', 'C'), ('T', 'C'), ('C', 'G'), ('G', 'C'), ('C', 'T'), ('T', 'C'), ('T', 'G'), ('G', 'T'), ('T', 'C'), ('A', 'G'), ('G', 'A'), ('C', 'T'), ('G', 'A'), ('T', 'C'), ('C', 'T'), ('T', 'C'), ('G', 'A'), ('T', 'G'), ('A', 'C'), ('G', 'T'), ('T', 'C'), ('A', 'G'), ('T', 'C'), ('G', 'C'), ('C', 'T'), ('G', 'A'), ('A', 'G'), ('T', 'A'), ('C', 'T'), ('T', 'C'), ('T', 'C'), ('T', 'C'), ('A', 'G'), ('T', 'C'), ('G', 'A'), ('T', 'C'), ('T', 'C'), ('C', 'A'), ('A', 'G'), ('T', 'C'), ('A', 'G'), ('T', 'C'), ('G', 'A'), ('T', 'C'), ('G', 'A'), ('A', 'G'), ('A', 'T'), ('C', 'T'), ('A', 'C'), ('G', 'A'), ('A', 'T'), ('C', 'T'), ('G', 'A'), ('G', 'A'), ('T', 'C'), ('A', 'G'), ('C', 'T'), ('C', 'T'), ('G', 'C'), ('T', 'C'), ('G', 'C'), ('C', 'T'), ('C', 'T'), ('T', 'G'), ('G', 'C'), ('A', 'G'), ('A', 'G'), ('T', 'A'), ('A', 'G'), ('C', 'T'), ('A', 'G'), ('G', 'A'), ('T', 'C'), ('G', 'A'), ('T', 'C'), ('T', 'C'), ('C', 'G'), ('T', 'C'), ('A', 'G'), ('G', 'A'), ('A', 'T'), ('C', 'T'), ('T', 'C'), ('C', 'T'), ('G', 'A'), ('A', 'G'), ('T', 'A'), ('T', 'A'), ('G', 'C'), ('A', 'G'), ('A', 'G'), ('A', 'C'), ('A', 'T'), ('C', 'G'), ('G', 'A'), ('A', 'G'), ('G', 'A'), ('T', 'G'), ('C', 'A'), ('G', 'A'), ('A', 'G'), ('A', 'G'), ('C', 'T'), ('A', 'G'), ('C', 'T'), ('A', 'C'), ('T', 'C'), ('T', 'C'), ('G', 'A'), ('A', 'G'), ('T', 'A'), ('A', 'G'), ('G', 'A'), ('C', 'T'), ('G', 'C'), ('C', 'T'), ('T', 'G'), ('T', 'G'), ('T', 'C'), ('T', 'C'), ('G', 'T'), ('G', 'A'), ('C', 'T'), ('A', 'T'), ('A', 'G'), ('G', 'C'), ('A', 'G'), ('T', 'C'), ('T', 'G'), ('G', 'A'), ('C', 'T'), ('T', 'C'), ('G', 'A'), ('A', 'G'), ('G', 'A'), ('C', 'T'), ('C', 'A'), ('G', 'A'), ('C', 'T'), ('A', 'G'), ('T', 'C'), ('T', 'C'), ('A', 'T'), ('T', 'C'), ('A', 'G'), ('G', 'A'), ('T', 'C'), ('T', 'G'), ('T', 'G'), ('G', 'A'), ('C', 'T'), ('C', 'G'), ('A', 'G'), ('T', 'C'), ('T', 'A'), ('T', 'C'), ('T', 'C'), ('G', 'A')]\n"
     ]
    }
   ],
   "source": [
    "different_list = [(sequences[0][i], sequences[1][i]) for i in range(len(sequences[0])) if sequences[0][i] != sequences[1][i]]\n",
    "\n",
    "print(different_list)"
   ]
  },
  {
   "cell_type": "code",
   "execution_count": 25,
   "metadata": {},
   "outputs": [
    {
     "name": "stdout",
     "output_type": "stream",
     "text": [
      "2.5064935064935066\n"
     ]
    }
   ],
   "source": [
    "transition_list = ('A','G'), ('G','A'),('T','C'),('C','T')\n",
    "transition = 0\n",
    "transversion = 0\n",
    "for base in different_list:\n",
    "    if base in transition_list:\n",
    "        transition += 1\n",
    "    else:\n",
    "        transversion += 1\n",
    "\n",
    "print(transition/transversion)"
   ]
  },
  {
   "cell_type": "code",
   "execution_count": null,
   "metadata": {},
   "outputs": [],
   "source": []
  }
 ],
 "metadata": {
  "kernelspec": {
   "display_name": "py12",
   "language": "python",
   "name": "python3"
  },
  "language_info": {
   "codemirror_mode": {
    "name": "ipython",
    "version": 3
   },
   "file_extension": ".py",
   "mimetype": "text/x-python",
   "name": "python",
   "nbconvert_exporter": "python",
   "pygments_lexer": "ipython3",
   "version": "3.12.8"
  }
 },
 "nbformat": 4,
 "nbformat_minor": 2
}
