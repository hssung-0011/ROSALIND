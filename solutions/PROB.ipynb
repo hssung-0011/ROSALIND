{
 "cells": [
  {
   "cell_type": "markdown",
   "metadata": {},
   "source": [
    "**Introduction to Random Strings**"
   ]
  },
  {
   "cell_type": "markdown",
   "metadata": {},
   "source": [
    "**Given**: A DNA string s of length at most 100 bp and an array A containing at most 20 numbers between 0 and 1.\n",
    "\n",
    "**Return**: An array B having the same length as A in which B[k] represents the common logarithm of the probability that a random string constructed with the GC-content found in A[k] will match s exactly."
   ]
  },
  {
   "cell_type": "code",
   "execution_count": 1,
   "metadata": {},
   "outputs": [],
   "source": [
    "from math import log10"
   ]
  },
  {
   "cell_type": "code",
   "execution_count": 15,
   "metadata": {},
   "outputs": [
    {
     "name": "stdout",
     "output_type": "stream",
     "text": [
      "[0.086, 0.15, 0.196, 0.246, 0.284, 0.341, 0.378, 0.447, 0.485, 0.523, 0.576, 0.611, 0.69, 0.706, 0.795, 0.833, 0.882, 0.944] CCAACCGTGACCCTAGAGGACAGCCCAGGCATCACCATGACCATGAGCAGCTTAATTTTCCGTCTGTGTGCCACGTGATA\n"
     ]
    }
   ],
   "source": [
    "filepath = \"/mnt/c/Data/ROSALIND_download/rosalind_prob.txt\"\n",
    "filedata = open(filepath).read().split('\\n')\n",
    "sequence, numdata = filedata[0], filedata[1]\n",
    "nums = [i for i in map(float, numdata.split())]\n",
    "print(nums, sequence)"
   ]
  },
  {
   "cell_type": "code",
   "execution_count": 16,
   "metadata": {},
   "outputs": [],
   "source": [
    "def prob_calc(prob, seq):\n",
    "    gc_prob = prob / 2\n",
    "    at_prob = (1-prob) / 2\n",
    "    result_prob = 1\n",
    "    for base in seq:\n",
    "        result_prob = result_prob * gc_prob if base in 'GC' else result_prob * at_prob\n",
    "    return round(log10(result_prob), 4)\n"
   ]
  },
  {
   "cell_type": "code",
   "execution_count": 17,
   "metadata": {},
   "outputs": [
    {
     "name": "stdout",
     "output_type": "stream",
     "text": [
      "-71.344 -62.122 -58.0209 -54.8095 -52.9579 -50.8752 -49.88 -48.6383 -48.2586 -48.0816 -48.1717 -48.4545 -49.8315 -50.2549 -53.8317 -56.2542 -60.7676 -71.4756\n"
     ]
    }
   ],
   "source": [
    "result = []\n",
    "for i in nums:\n",
    "    result.append(prob_calc(i, sequence))\n",
    "print(' '.join(map(str, result)))"
   ]
  },
  {
   "cell_type": "code",
   "execution_count": null,
   "metadata": {},
   "outputs": [],
   "source": []
  }
 ],
 "metadata": {
  "kernelspec": {
   "display_name": "py12",
   "language": "python",
   "name": "python3"
  },
  "language_info": {
   "codemirror_mode": {
    "name": "ipython",
    "version": 3
   },
   "file_extension": ".py",
   "mimetype": "text/x-python",
   "name": "python",
   "nbconvert_exporter": "python",
   "pygments_lexer": "ipython3",
   "version": "3.12.8"
  }
 },
 "nbformat": 4,
 "nbformat_minor": 2
}
