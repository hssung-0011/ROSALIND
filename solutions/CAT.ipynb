{
 "cells": [
  {
   "cell_type": "markdown",
   "id": "daf3ce83",
   "metadata": {},
   "source": [
    "**Catalan Numbers and RNA Secondary Structures**"
   ]
  },
  {
   "cell_type": "markdown",
   "id": "6b03a5aa",
   "metadata": {},
   "source": [
    "**Given**: An RNA string s having the same number of occurrences of 'A' as 'U' and the same number of occurrences of 'C' as 'G'. The length of the string is at most 300 bp.\n",
    "\n",
    "**Return**: The total number of noncrossing perfect matchings of basepair edges in the bonding graph of s\n",
    ", modulo 1,000,000."
   ]
  },
  {
   "cell_type": "code",
   "execution_count": 1,
   "id": "c273a21f",
   "metadata": {},
   "outputs": [],
   "source": [
    "from Bio import SeqIO"
   ]
  },
  {
   "cell_type": "code",
   "execution_count": 6,
   "id": "83e9f9d2",
   "metadata": {},
   "outputs": [
    {
     "data": {
      "text/plain": [
       "'AUAU'"
      ]
     },
     "execution_count": 6,
     "metadata": {},
     "output_type": "execute_result"
    }
   ],
   "source": [
    "filepath = \"/mnt/c/Data/ROSALIND_download/sample.txt\"\n",
    "\n",
    "seq = str(SeqIO.read(filepath, 'fasta').seq)\n",
    "seq"
   ]
  },
  {
   "cell_type": "code",
   "execution_count": null,
   "id": "5216d441",
   "metadata": {},
   "outputs": [],
   "source": [
    "def catalan(n):\n",
    "    '''node가 0일때부터 2, 4, ...2n까지의 catalan number'''\n",
    "    m = [1] + [1] + [0]*(n-2)\n",
    "    for num in range(len(m)):\n",
    "        if num < 2:\n",
    "            continue\n",
    "        m_list = [m[i] * m[num-1-i] for i in range(num)] \n",
    "        m[num] = sum(m_list)\n",
    "    return m\n",
    "        "
   ]
  },
  {
   "cell_type": "code",
   "execution_count": 13,
   "id": "a75352c2",
   "metadata": {},
   "outputs": [
    {
     "name": "stdout",
     "output_type": "stream",
     "text": [
      "[1, 1, 0, 0, 0]\n"
     ]
    },
    {
     "data": {
      "text/plain": [
       "[1, 1, 2, 5, 14]"
      ]
     },
     "execution_count": 13,
     "metadata": {},
     "output_type": "execute_result"
    }
   ],
   "source": [
    "catalan(5)\n"
   ]
  },
  {
   "cell_type": "code",
   "execution_count": null,
   "id": "cfadef99",
   "metadata": {},
   "outputs": [],
   "source": []
  }
 ],
 "metadata": {
  "kernelspec": {
   "display_name": "py12",
   "language": "python",
   "name": "python3"
  },
  "language_info": {
   "codemirror_mode": {
    "name": "ipython",
    "version": 3
   },
   "file_extension": ".py",
   "mimetype": "text/x-python",
   "name": "python",
   "nbconvert_exporter": "python",
   "pygments_lexer": "ipython3",
   "version": "3.12.8"
  }
 },
 "nbformat": 4,
 "nbformat_minor": 5
}
