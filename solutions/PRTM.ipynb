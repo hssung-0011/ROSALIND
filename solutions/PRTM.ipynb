{
 "cells": [
  {
   "cell_type": "markdown",
   "metadata": {},
   "source": [
    "**Calculating Protein Mass**"
   ]
  },
  {
   "cell_type": "markdown",
   "metadata": {},
   "source": [
    "In a weighted alphabet, every symbol is assigned a positive real number called a weight. A string formed from a weighted alphabet is called a weighted string, and its weight is equal to the sum of the weights of its symbols.\n",
    "\n",
    "The standard weight assigned to each member of the 20-symbol amino acid alphabet is the monoisotopic mass of the corresponding amino acid."
   ]
  },
  {
   "cell_type": "code",
   "execution_count": 4,
   "metadata": {},
   "outputs": [
    {
     "data": {
      "text/plain": [
       "{'A': 71.03711,\n",
       " 'C': 103.00919,\n",
       " 'D': 115.02694,\n",
       " 'E': 129.04259,\n",
       " 'F': 147.06841,\n",
       " 'G': 57.02146,\n",
       " 'H': 137.05891,\n",
       " 'I': 113.08406,\n",
       " 'K': 128.09496,\n",
       " 'L': 113.08406,\n",
       " 'M': 131.04049,\n",
       " 'N': 114.04293,\n",
       " 'P': 97.05276,\n",
       " 'Q': 128.05858,\n",
       " 'R': 156.10111,\n",
       " 'S': 87.03203,\n",
       " 'T': 101.04768,\n",
       " 'V': 99.06841,\n",
       " 'W': 186.07931,\n",
       " 'Y': 163.06333}"
      ]
     },
     "execution_count": 4,
     "metadata": {},
     "output_type": "execute_result"
    }
   ],
   "source": [
    "aa = \"\"\"A   71.03711\n",
    "C   103.00919\n",
    "D   115.02694\n",
    "E   129.04259\n",
    "F   147.06841\n",
    "G   57.02146\n",
    "H   137.05891\n",
    "I   113.08406\n",
    "K   128.09496\n",
    "L   113.08406\n",
    "M   131.04049\n",
    "N   114.04293\n",
    "P   97.05276\n",
    "Q   128.05858\n",
    "R   156.10111\n",
    "S   87.03203\n",
    "T   101.04768\n",
    "V   99.06841\n",
    "W   186.07931\n",
    "Y   163.06333 \"\"\"\n",
    "aa_list = aa.split('\\n')\n",
    "aa_dict = {i.split()[0]:float(i.split()[1]) for i in aa_list}\n",
    "aa_dict"
   ]
  },
  {
   "cell_type": "code",
   "execution_count": null,
   "metadata": {},
   "outputs": [
    {
     "data": {
      "text/plain": [
       "'CVFSLSTVCHSQMTVKICAMVAFRLREGCNHDTSYNRDHFCNVIQKNQIYCSCTNIDFIMMFNIMNNSHCQCGFWGPGSCFHYDRCVMWHCDNTSGASMYGMFHAGCSEDPDMWPIEYPKRDHKLWEHQMSNAFAAARPYGLKWIWYHFWQQKHGVLWQQMDHDGMESYEVFSKQFNSCEPKAAFGRKHDTSNHWRWSMEDCLFYYGQHCMNTMDMYRLHDMRLRIFEQQWANPTWSQSHYTCSWMQGVLSYEWISKQFTMEPDKSFVLSQQRVWALMDTRMPNSKTKPDCYYFMFAHGCYCACHVLQFHPCLIRQRKFTEHHWTFSYINYRDQMIHPGRRFDDGFVNKRLPCNKRVHGAYAYCEMCNAQDMWQMIDNWAAHQWVVAQAMIHGSEYSYLNMYIWMRAILQIKPYWFPVPLLDKEPDIWHNISPSTGTNDDAPAMRYHICSPYWYMWVHLWTMVPEWPVCNRFEMENAWAMHACKVKWRHMMMFKPPACYQNLEPSYEVHTTDHDPTYHCCFRRFHDQAEQSLRAGTDLHCQGTHYCHLKIDCQKFNATVKNDVRAYLSIKFGKAPYDHGMALWSYGNMYMMGIKEGWDKAFNHYWLRRAKMYTKKLSMVMTLFRTFIGYLINPDNHIHWHNERHGGMSSSMCMGTCYHEQWHLKVHDRNTGFVQIYAIHHPASLIPIDFCDNILKCENEHYKYCPERRNVQYAKVAFTQYEKNHQTYQCLDKPTHHAHTMWQCILLHAQCAYSWGSHVHLHPMIVNSKAHWTKNVQSADRCFAWEHHAFGYETPHSHSKVATAFSRAAFNHAYTAKTAWSGVITWSHPYEQVTERKGQKWQQVGHDGLYMYMMQDNKSEMQTWSSDWQEICQCKNDRYVCWWGNFVSPCRRFLGVIVLSFSLFTVKCACKALHELGEQQSIWQGNGVLHEQDEYAELAWVKNIHYVTSQKDPTRVTMIFRQCNVKDGK'"
      ]
     },
     "execution_count": 17,
     "metadata": {},
     "output_type": "execute_result"
    }
   ],
   "source": [
    "filepath = \"/mnt/c/Data/ROSALIND_download/rosalind_prtm.txt\"\n",
    "with open(filepath) as f:\n",
    "    lines = f.readlines()\n",
    "    seq = \"\"\n",
    "    for line in lines:\n",
    "        seq += line.rstrip()\n",
    "seq"
   ]
  },
  {
   "cell_type": "code",
   "execution_count": null,
   "metadata": {},
   "outputs": [
    {
     "name": "stdout",
     "output_type": "stream",
     "text": [
      "115312.3513800006\n",
      "115312.35138\n"
     ]
    }
   ],
   "source": [
    "total_sum = 0\n",
    "for chr in seq:\n",
    "    total_sum += aa_dict[chr]\n",
    "print(total_sum)\n",
    "\n",
    "total = sum(aa_dict[chr] for chr in seq)\n",
    "print(total)\n",
    "## sum과 comprehension으로 더 간단하게 표현 가능"
   ]
  },
  {
   "cell_type": "code",
   "execution_count": null,
   "metadata": {},
   "outputs": [],
   "source": []
  },
  {
   "cell_type": "code",
   "execution_count": null,
   "metadata": {},
   "outputs": [],
   "source": []
  }
 ],
 "metadata": {
  "kernelspec": {
   "display_name": "py12",
   "language": "python",
   "name": "python3"
  },
  "language_info": {
   "codemirror_mode": {
    "name": "ipython",
    "version": 3
   },
   "file_extension": ".py",
   "mimetype": "text/x-python",
   "name": "python",
   "nbconvert_exporter": "python",
   "pygments_lexer": "ipython3",
   "version": "3.12.8"
  }
 },
 "nbformat": 4,
 "nbformat_minor": 2
}
