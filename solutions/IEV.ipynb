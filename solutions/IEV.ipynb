{
 "cells": [
  {
   "cell_type": "markdown",
   "metadata": {},
   "source": [
    "**Calculating Expected Offspring**"
   ]
  },
  {
   "cell_type": "markdown",
   "metadata": {},
   "source": [
    "For a random variable X\n",
    " taking integer values between 1 and n\n",
    ", the expected value of X\n",
    " is E(X)=∑nk=1k×Pr(X=k)\n",
    ". The expected value offers us a way of taking the long-term average of a random variable over a large number of trials.\n",
    "\n",
    "As a motivating example, let X\n",
    " be the number on a six-sided die. Over a large number of rolls, we should expect to obtain an average of 3.5 on the die (even though it's not possible to roll a 3.5). The formula for expected value confirms that E(X)=∑6k=1k×Pr(X=k)=3.5\n",
    ".\n",
    "\n",
    "More generally, a random variable for which every one of a number of equally spaced outcomes has the same probability is called a uniform random variable (in the die example, this \"equal spacing\" is equal to 1). We can generalize our die example to find that if X\n",
    " is a uniform random variable with minimum possible value a\n",
    " and maximum possible value b\n",
    ", then E(X)=a+b2\n",
    ". You may also wish to verify that for the dice example, if Y\n",
    " is the random variable associated with the outcome of a second die roll, then E(X+Y)=7\n",
    "."
   ]
  },
  {
   "cell_type": "code",
   "execution_count": 5,
   "metadata": {},
   "outputs": [
    {
     "data": {
      "text/plain": [
       "[16622, 18946, 18162, 18998, 19653, 17917]"
      ]
     },
     "execution_count": 5,
     "metadata": {},
     "output_type": "execute_result"
    }
   ],
   "source": [
    "file_path = \"/mnt/c/Data/ROSALIND_download/rosalind_iev.txt\"\n",
    "\n",
    "with open(file_path) as f:\n",
    "    nums = f.read().split()\n",
    "    nums = list(map(int,nums))\n",
    "    f.close()\n",
    "\n",
    "nums"
   ]
  },
  {
   "cell_type": "code",
   "execution_count": 6,
   "metadata": {},
   "outputs": [
    {
     "data": {
      "text/plain": [
       "155610.0"
      ]
     },
     "execution_count": 6,
     "metadata": {},
     "output_type": "execute_result"
    }
   ],
   "source": [
    "expect_dom = nums[0] * 2 + nums[1] * 2 + nums[2] * 2 + nums[3] * 1.5 + nums[4]\n",
    "expect_dom"
   ]
  },
  {
   "cell_type": "code",
   "execution_count": null,
   "metadata": {},
   "outputs": [],
   "source": []
  }
 ],
 "metadata": {
  "kernelspec": {
   "display_name": "py12",
   "language": "python",
   "name": "python3"
  },
  "language_info": {
   "codemirror_mode": {
    "name": "ipython",
    "version": 3
   },
   "file_extension": ".py",
   "mimetype": "text/x-python",
   "name": "python",
   "nbconvert_exporter": "python",
   "pygments_lexer": "ipython3",
   "version": "3.12.8"
  }
 },
 "nbformat": 4,
 "nbformat_minor": 2
}
