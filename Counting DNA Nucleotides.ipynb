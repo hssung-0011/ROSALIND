{
 "cells": [
  {
   "cell_type": "code",
   "execution_count": 12,
   "metadata": {},
   "outputs": [],
   "source": [
    "input_DNA = \"CTTTGAAGGATTAGAAATGTGTGATCTGACAGACCCTGCGGGTCGACCGCCGATCCATTATTAAAGATACCTAGCACCCTCGTATAAGGTTCATCTTAGTTGCTTAGGACTACTGTGGGAGCAAATACTATACAACTCACGGTGGCCATAGTCTTAGGAAAAATTGAAGCAGGAGAGAAGCCGCATACGAGCCGCTTAGGAGGTTTGAGGCCTTTCTCTGCCTTCGTTAACCCACTGGGGGGGGGGTCCTCTCTACTTGCTTTCGGTCAGGAAGTGCTTACTCTTTCAGGATCCGCAATCTATTAGGTGGATCTCTCAAGAGTGTGTAGCATTACTACGCATACTGGCTGACGGTCTATATGGCCTGATGGTCACCGGCTTAGTGCTCTATCGTCGGCCTGCATGGTATACAGCAAGTATCCGCTACGTTTTACGAGTAGCTAGCCCCCAACGTTCCGTGTACAACGCTGGCTTCGGAGTGCGAGCCTGACTGCTGTCCCGAGGTCCCCACCCCCGAATACGCCCGCACCCGGCTGTTAACTGGGGCTCGCGCGCAGGTGCCCACAAACCGTCCATGTCTCGCGCTCCGGGATGTTTCTTAACCCCTTAAGGAACAATTGTAAAAGCGCACAACTAACGTGGGAACAAAACTGTATAATGTGCTTTGCGATGATTTTTCCCACAGCCAAACTACTATGCCACATATTACCTGTACCAATACGTTGTCACTCTGTCAATATTGACATCTGTCAGACATTCAGCCTTGTGGTCTGATCACATCCGCCCAGACTGTTAACGTGTCCTATATCAAACCTACCGCGAGTTCC\"\n",
    "ATGC = [0,0,0,0]\n",
    "\n",
    "for base in input_DNA:\n",
    "    if base == \"A\":\n",
    "        ATGC[0] += 1\n",
    "    elif base == \"T\":\n",
    "        ATGC[1] += 1\n",
    "    elif base == \"G\":\n",
    "        ATGC[2] += 1\n",
    "    elif base == \"C\":\n",
    "        ATGC[3] += 1\n",
    "    else:\n",
    "        print(\"염기가 아닙니다\")\n"
   ]
  },
  {
   "cell_type": "code",
   "execution_count": 13,
   "metadata": {},
   "outputs": [
    {
     "name": "stdout",
     "output_type": "stream",
     "text": [
      "194 223 194 216\n"
     ]
    }
   ],
   "source": [
    "print(ATGC[0],ATGC[3],ATGC[2],ATGC[1])"
   ]
  },
  {
   "cell_type": "code",
   "execution_count": 14,
   "metadata": {},
   "outputs": [
    {
     "name": "stdout",
     "output_type": "stream",
     "text": [
      "194\n",
      "223\n",
      "194\n",
      "216\n"
     ]
    }
   ],
   "source": [
    "print(input_DNA.count(\"A\"))\n",
    "print(input_DNA.count(\"C\"))\n",
    "print(input_DNA.count(\"G\"))\n",
    "print(input_DNA.count(\"T\"))\n"
   ]
  },
  {
   "cell_type": "code",
   "execution_count": null,
   "metadata": {},
   "outputs": [],
   "source": []
  }
 ],
 "metadata": {
  "kernelspec": {
   "display_name": "py12",
   "language": "python",
   "name": "python3"
  },
  "language_info": {
   "codemirror_mode": {
    "name": "ipython",
    "version": 3
   },
   "file_extension": ".py",
   "mimetype": "text/x-python",
   "name": "python",
   "nbconvert_exporter": "python",
   "pygments_lexer": "ipython3",
   "version": "3.12.8"
  }
 },
 "nbformat": 4,
 "nbformat_minor": 2
}
