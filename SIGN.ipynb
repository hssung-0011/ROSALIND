{
 "cells": [
  {
   "cell_type": "markdown",
   "metadata": {},
   "source": [
    "**Enumerating Oriented Gene Orderings**"
   ]
  },
  {
   "cell_type": "markdown",
   "metadata": {},
   "source": [
    "**Given**: A positive integer n≤6.\n",
    "\n",
    "**Return**: The total number of signed permutations of length n, followed by a list of all such permutations (you may list the signed permutations in any order)."
   ]
  },
  {
   "cell_type": "code",
   "execution_count": 12,
   "metadata": {},
   "outputs": [],
   "source": [
    "from math import factorial\n",
    "from itertools import permutations\n",
    "from itertools import combinations\n"
   ]
  },
  {
   "cell_type": "code",
   "execution_count": 28,
   "metadata": {},
   "outputs": [
    {
     "name": "stdout",
     "output_type": "stream",
     "text": [
      "48\n"
     ]
    }
   ],
   "source": [
    "input_num = 3\n",
    "print(factorial(input_num) * (2**input_num)) ## total number"
   ]
  },
  {
   "cell_type": "code",
   "execution_count": 29,
   "metadata": {},
   "outputs": [
    {
     "data": {
      "text/plain": [
       "[[1, 2, 3], [1, 3, 2], [2, 1, 3], [2, 3, 1], [3, 1, 2], [3, 2, 1]]"
      ]
     },
     "execution_count": 29,
     "metadata": {},
     "output_type": "execute_result"
    }
   ],
   "source": [
    "perm_list = list(map(list,permutations(range(1,input_num+1))))\n",
    "perm_list"
   ]
  },
  {
   "cell_type": "code",
   "execution_count": 30,
   "metadata": {},
   "outputs": [],
   "source": [
    "def all_signed(numlist):\n",
    "    list_len = len(numlist)\n",
    "    for i in range(list_len+1):\n",
    "        for comb in combinations(range(1,len(numlist)+1), i):\n",
    "            changed_numlist = [-j if j in comb else j for j in numlist]\n",
    "            print(' '.join(map(str,changed_numlist)))\n"
   ]
  },
  {
   "cell_type": "code",
   "execution_count": 31,
   "metadata": {},
   "outputs": [
    {
     "name": "stdout",
     "output_type": "stream",
     "text": [
      "48\n",
      "1 2 3\n",
      "-1 2 3\n",
      "1 -2 3\n",
      "1 2 -3\n",
      "-1 -2 3\n",
      "-1 2 -3\n",
      "1 -2 -3\n",
      "-1 -2 -3\n",
      "1 3 2\n",
      "-1 3 2\n",
      "1 3 -2\n",
      "1 -3 2\n",
      "-1 3 -2\n",
      "-1 -3 2\n",
      "1 -3 -2\n",
      "-1 -3 -2\n",
      "2 1 3\n",
      "2 -1 3\n",
      "-2 1 3\n",
      "2 1 -3\n",
      "-2 -1 3\n",
      "2 -1 -3\n",
      "-2 1 -3\n",
      "-2 -1 -3\n",
      "2 3 1\n",
      "2 3 -1\n",
      "-2 3 1\n",
      "2 -3 1\n",
      "-2 3 -1\n",
      "2 -3 -1\n",
      "-2 -3 1\n",
      "-2 -3 -1\n",
      "3 1 2\n",
      "3 -1 2\n",
      "3 1 -2\n",
      "-3 1 2\n",
      "3 -1 -2\n",
      "-3 -1 2\n",
      "-3 1 -2\n",
      "-3 -1 -2\n",
      "3 2 1\n",
      "3 2 -1\n",
      "3 -2 1\n",
      "-3 2 1\n",
      "3 -2 -1\n",
      "-3 2 -1\n",
      "-3 -2 1\n",
      "-3 -2 -1\n"
     ]
    }
   ],
   "source": [
    "print(factorial(input_num) * (2**input_num))\n",
    "for i in perm_list:\n",
    "    all_signed(i)"
   ]
  },
  {
   "cell_type": "code",
   "execution_count": null,
   "metadata": {},
   "outputs": [],
   "source": []
  }
 ],
 "metadata": {
  "kernelspec": {
   "display_name": "py12",
   "language": "python",
   "name": "python3"
  },
  "language_info": {
   "codemirror_mode": {
    "name": "ipython",
    "version": 3
   },
   "file_extension": ".py",
   "mimetype": "text/x-python",
   "name": "python",
   "nbconvert_exporter": "python",
   "pygments_lexer": "ipython3",
   "version": "3.12.8"
  }
 },
 "nbformat": 4,
 "nbformat_minor": 2
}
