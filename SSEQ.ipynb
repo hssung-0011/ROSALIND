{
 "cells": [
  {
   "cell_type": "markdown",
   "metadata": {},
   "source": [
    "**Finding a Spliced Motif**"
   ]
  },
  {
   "cell_type": "markdown",
   "metadata": {},
   "source": [
    "Given: Two DNA strings s and t (each of length at most 1 kbp) in FASTA format.\n",
    "\n",
    "Return: One collection of indices of s in which the symbols of t appear as a subsequence of s. If multiple solutions exist, you may return any one."
   ]
  },
  {
   "cell_type": "code",
   "execution_count": 25,
   "metadata": {},
   "outputs": [],
   "source": [
    "from Bio import SeqIO\n"
   ]
  },
  {
   "cell_type": "code",
   "execution_count": 26,
   "metadata": {},
   "outputs": [
    {
     "name": "stdout",
     "output_type": "stream",
     "text": [
      "GACGAGCCAAACATCTTGCCCCACGCTACCCGGAGATAGTACCTACAGCGGGTCCGACTGCTTCGGTTGTATGTGGTCCTGTTCAACGCAAGGCCGTACGTGACGAAGCACCTTGTTCTTTAGGAACTCCGGGACGCAGCCAGGCGACACGGACATGTACTAGTTGTCAAACGTTGGGCACGTGCTTCCACGTTAGATTAGGGCAGCGACATGTATGCCCTTCACGATAAAGTTACCAAGAGCTACCCCATGAAGACCCATAAATATATTTATTCGTTGTTGTAAGCGAGGATTAAACGAAAAATCGGAGCCTGGTCTGAGGTCCACCTGAGTTGGCTGCAAGCCTCTAAAGTTACAAATGCTGTGGCTCTCCAAAGCCTAACGCGCAAATTTAAGCCACGTCATCCCGGGCCCGGAATTTTTAGGAGATTCACGAGGCAGATGAGCTGCGGTCCTACTTGTTCACCTACACGGAATGGCTAAATCTAACAATGGGTCTTGAATACGACATCTTCAACTTCCCAATCAAACTTCCGAGCCACCAATAAATCGTAAACTCACAGCAGAGGTATGTGAGGTTTCATACGCACCCATGTGCCTTACACTACAGCTGGATGGCTATTACTTGATATTCTGATTATTATTCATCTACTCTTAACAATACTACGGATGTGGTACGGTATCGTAAGTTTCTATTGACGGCGACATTCCAGTTTTTATTAAGCAGCAGAGGACATGGGGAGAACGCACCAAAGAGCCGATCTAGGTTCCCCTGTCCTTGCATTGCACCTAACAGTCGCCATTTCCGCAGGTTGGTATGGATCGGCGCTCAGACATCTTGGACCTCTACTGTGCAGGCCCAGGAAAAGAGCTGCCGTACGCGCCTACTCTGGTCGATACATTAATGGCT\n",
      "ACCGGTAAGTTTGGCTTAGCAGAAATAGGATGATACCCGCGCAAAAAGTCTTATCGTCATAGGGGCATGTCTCGCGCATGC\n"
     ]
    }
   ],
   "source": [
    "filepath = \"/mnt/c/Data/ROSALIND_download/rosalind_sseq.txt\"\n",
    "seq = [str(data.seq) for data in SeqIO.parse(filepath, 'fasta')]\n",
    "    \n",
    "seq, subseq = (seq[0], seq[1]) if len(seq[0]) > len(seq[1]) else (seq[1], seq[0])\n",
    "print(seq)\n",
    "print(subseq)"
   ]
  },
  {
   "cell_type": "code",
   "execution_count": 27,
   "metadata": {},
   "outputs": [
    {
     "name": "stdout",
     "output_type": "stream",
     "text": [
      "2 3 7 18 25 27 28 34 35 37 40 44 48 50 54 59 62 71 73 78 85 88 90 91 98 101 103 105 108 110 113 115 122 128 134 135 137 140 143 145 146 148 149 153 155 159 162 163 164 168 174 175 180 183 185 192 193 204 205 212 215 217 226 232 240 243 245 251 252 261 275 277 287 288 298 299 306 309 313 314 317 "
     ]
    }
   ],
   "source": [
    "m = 0\n",
    "subseq_index = []\n",
    "for base in subseq:\n",
    "    while True:\n",
    "        if base == seq[m]:\n",
    "            print(m+1, end=' ')\n",
    "            m += 1\n",
    "            break\n",
    "        else:\n",
    "            m +=1"
   ]
  }
 ],
 "metadata": {
  "kernelspec": {
   "display_name": "py12",
   "language": "python",
   "name": "python3"
  },
  "language_info": {
   "codemirror_mode": {
    "name": "ipython",
    "version": 3
   },
   "file_extension": ".py",
   "mimetype": "text/x-python",
   "name": "python",
   "nbconvert_exporter": "python",
   "pygments_lexer": "ipython3",
   "version": "3.12.8"
  }
 },
 "nbformat": 4,
 "nbformat_minor": 2
}
